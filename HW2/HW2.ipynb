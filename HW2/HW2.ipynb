{
 "cells": [
  {
   "cell_type": "code",
   "execution_count": 11,
   "id": "ff320040",
   "metadata": {},
   "outputs": [
    {
     "data": {
      "application/vnd.plotly.v1+json": {
       "config": {
        "plotlyServerURL": "https://plot.ly"
       },
       "data": [
        {
         "hovertemplate": "<b>%{hovertext}</b><br><br>編號=小區域有感地震<br>規模=%{x}<br>地震時間=%{y}<br>深度=%{marker.size}<extra></extra>",
         "hovertext": [
          "臺東縣政府北北東方  52.6  公里 (位於臺東縣成功鎮)(臺東縣成功鎮)",
          "花蓮縣政府北方  37.3  公里 (位於花蓮縣秀林鄉)(花蓮縣秀林鄉)",
          "臺東縣政府南南東方  36.0  公里 (位於臺灣東南部海域)(臺灣東南部海域)",
          "臺東縣政府北北東方  52.2  公里 (位於臺東縣成功鎮)(臺東縣成功鎮)",
          "花蓮縣政府東方  11.0  公里 (位於臺灣東部海域)(臺灣東部海域)",
          "宜蘭縣政府東方  163.2  公里 (位於臺灣東部海域)(臺灣東部海域)",
          "花蓮縣政府西南方  32.7  公里 (位於花蓮縣鳳林鎮)(花蓮縣鳳林鎮)",
          "宜蘭縣政府南南東方  38.9  公里 (位於臺灣東部海域)(臺灣東部海域)",
          "宜蘭縣政府南南東方  36.1  公里 (位於宜蘭縣近海)(宜蘭縣近海)",
          "花蓮縣政府西南方  33.1  公里 (位於花蓮縣鳳林鎮)(花蓮縣鳳林鎮)",
          "屏東縣政府東南方  66.2  公里 (位於屏東縣牡丹鄉)(屏東縣牡丹鄉)",
          "花蓮縣政府西北方  14.2  公里 (位於花蓮縣秀林鄉)(花蓮縣秀林鄉)",
          "花蓮縣政府北北東方  34.5  公里 (位於花蓮縣近海)(花蓮縣近海)",
          "花蓮縣政府西南西方  15.3  公里 (位於花蓮縣秀林鄉)(花蓮縣秀林鄉)",
          "臺北市政府北方  13.7  公里 (位於臺北市士林區)(臺北市士林區)",
          "高雄市政府東北方  40.2  公里 (位於高雄市美濃區)(高雄市美濃區)",
          "花蓮縣政府南南西方  89.4  公里 (位於花蓮縣卓溪鄉)(花蓮縣卓溪鄉)",
          "臺東縣政府北方  38.2  公里 (位於臺東縣海端鄉)(臺東縣海端鄉)",
          "花蓮縣政府北北東方  34.3  公里 (位於花蓮縣近海)(花蓮縣近海)",
          "桃園市政府南南東方  28.2  公里 (位於桃園市復興區)(桃園市復興區)",
          "臺東縣政府南南東方  74.1  公里 (位於臺灣東南部海域)(臺灣東南部海域)",
          "宜蘭縣政府東南方  23.3  公里 (位於宜蘭縣近海)(宜蘭縣近海)",
          "花蓮縣政府西南西方  13.7  公里 (位於花蓮縣秀林鄉)(花蓮縣秀林鄉)",
          "臺東縣政府北北東方  66.8  公里 (位於臺東縣長濱鄉)(臺東縣長濱鄉)",
          "花蓮縣政府東南東方  42.5  公里 (位於臺灣東部海域)(臺灣東部海域)",
          "花蓮縣政府北北東方  34.2  公里 (位於花蓮縣近海)(花蓮縣近海)",
          "花蓮縣政府北北東方  33.5  公里 (位於花蓮縣近海)(花蓮縣近海)",
          "花蓮縣政府南南西方  69.4  公里 (位於花蓮縣卓溪鄉)(花蓮縣卓溪鄉)",
          "嘉義縣政府東方  43.8  公里 (位於嘉義縣阿里山鄉)(嘉義縣阿里山鄉)",
          "宜蘭縣政府西南方  18.2  公里 (位於宜蘭縣大同鄉)(宜蘭縣大同鄉)",
          "臺南市政府東北東方  38.9  公里 (位於臺南市南化區)(臺南市南化區)",
          "花蓮縣政府北北東方  32.8  公里 (位於花蓮縣近海)(花蓮縣近海)"
         ],
         "legendgroup": "小區域有感地震",
         "marker": {
          "color": "#636efa",
          "size": [
           18.7,
           25.1,
           16.1,
           17,
           3.6,
           140.5,
           12.2,
           26.7,
           26,
           11.3,
           7.1,
           20.6,
           21.6,
           18.4,
           4.7,
           9.1,
           17.3,
           14.5,
           21.3,
           6.4,
           24.1,
           13.6,
           17.3,
           27,
           39.4,
           21.8,
           21,
           11.7,
           7.8,
           48.1,
           12.6,
           14.6
          ],
          "sizemode": "area",
          "sizeref": 0.0878125,
          "symbol": "circle"
         },
         "mode": "markers",
         "name": "小區域有感地震",
         "orientation": "h",
         "showlegend": true,
         "type": "scatter",
         "x": [
          4.1,
          3.4,
          4.6,
          3.2,
          3.5,
          5.4,
          3.9,
          3.9,
          4.2,
          3.9,
          3.5,
          3.7,
          3.4,
          3.9,
          3.3,
          4.1,
          4,
          4,
          3.5,
          3.9,
          3.9,
          3.7,
          3.1,
          3.8,
          4.3,
          4.1,
          3.3,
          3.6,
          3.4,
          3.8,
          3.7,
          3.4
         ],
         "xaxis": "x",
         "y": [
          "2023/2/28 03:30",
          "2023/2/26 14:22",
          "2023/2/26 00:03",
          "2023/2/25 14:06",
          "2023/2/23 07:55",
          "2023/2/22 01:00",
          "2023/2/21 12:39",
          "2023/2/21 12:29",
          "2023/2/21 12:22",
          "2023/2/21 07:39",
          "2023/2/18 16:34",
          "2023/2/18 10:48",
          "2023/2/17 15:07",
          "2023/2/17 09:35",
          "2023/2/17 09:08",
          "2023/2/16 08:30",
          "2023/2/13 15:34",
          "2023/2/13 05:51",
          "2023/2/12 04:40",
          "2023/2/11 05:18",
          "2023/2/10 23:12",
          "2023/2/10 08:07",
          "2023/2/10 02:59",
          "2023/2/10 01:52",
          "2023/2/8 12:18",
          "2023/2/7 06:12",
          "2023/2/7 04:26",
          "2023/2/6 14:37",
          "2023/2/4 03:06",
          "2023/2/3 22:48",
          "2023/2/2 13:54",
          "2023/2/1 16:03"
         ],
         "yaxis": "y"
        },
        {
         "hovertemplate": "<b>%{hovertext}</b><br><br>編號=14<br>規模=%{x}<br>地震時間=%{y}<br>深度=%{marker.size}<extra></extra>",
         "hovertext": [
          "花蓮縣政府東方  11.7  公里 (位於臺灣東部海域)(臺灣東部海域)"
         ],
         "legendgroup": "14",
         "marker": {
          "color": "#EF553B",
          "size": [
           6.9
          ],
          "sizemode": "area",
          "sizeref": 0.0878125,
          "symbol": "circle"
         },
         "mode": "markers",
         "name": "14",
         "orientation": "h",
         "showlegend": true,
         "type": "scatter",
         "x": [
          4.6
         ],
         "xaxis": "x",
         "y": [
          "2023/2/23 05:18"
         ],
         "yaxis": "y"
        },
        {
         "hovertemplate": "<b>%{hovertext}</b><br><br>編號=13<br>規模=%{x}<br>地震時間=%{y}<br>深度=%{marker.size}<extra></extra>",
         "hovertext": [
          "花蓮縣政府南方  52.6  公里 (位於臺灣東部海域)(臺灣東部海域)"
         ],
         "legendgroup": "13",
         "marker": {
          "color": "#00cc96",
          "size": [
           31.3
          ],
          "sizemode": "area",
          "sizeref": 0.0878125,
          "symbol": "circle"
         },
         "mode": "markers",
         "name": "13",
         "orientation": "h",
         "showlegend": true,
         "type": "scatter",
         "x": [
          4.8
         ],
         "xaxis": "x",
         "y": [
          "2023/2/21 19:01"
         ],
         "yaxis": "y"
        },
        {
         "hovertemplate": "<b>%{hovertext}</b><br><br>編號=12<br>規模=%{x}<br>地震時間=%{y}<br>深度=%{marker.size}<extra></extra>",
         "hovertext": [
          "宜蘭縣政府西南西方  14.7  公里 (位於宜蘭縣三星鄉)(宜蘭縣三星鄉)"
         ],
         "legendgroup": "12",
         "marker": {
          "color": "#ab63fa",
          "size": [
           54.6
          ],
          "sizemode": "area",
          "sizeref": 0.0878125,
          "symbol": "circle"
         },
         "mode": "markers",
         "name": "12",
         "orientation": "h",
         "showlegend": true,
         "type": "scatter",
         "x": [
          4.6
         ],
         "xaxis": "x",
         "y": [
          "2023/2/19 07:32"
         ],
         "yaxis": "y"
        },
        {
         "hovertemplate": "<b>%{hovertext}</b><br><br>編號=11<br>規模=%{x}<br>地震時間=%{y}<br>深度=%{marker.size}<extra></extra>",
         "hovertext": [
          "南投縣政府南南東方  22.8  公里 (位於南投縣鹿谷鄉)(南投縣鹿谷鄉)"
         ],
         "legendgroup": "11",
         "marker": {
          "color": "#FFA15A",
          "size": [
           21.4
          ],
          "sizemode": "area",
          "sizeref": 0.0878125,
          "symbol": "circle"
         },
         "mode": "markers",
         "name": "11",
         "orientation": "h",
         "showlegend": true,
         "type": "scatter",
         "x": [
          5.1
         ],
         "xaxis": "x",
         "y": [
          "2023/2/18 23:49"
         ],
         "yaxis": "y"
        },
        {
         "hovertemplate": "<b>%{hovertext}</b><br><br>編號=10<br>規模=%{x}<br>地震時間=%{y}<br>深度=%{marker.size}<extra></extra>",
         "hovertext": [
          "花蓮縣政府西南西方  16.2  公里 (位於花蓮縣秀林鄉)(花蓮縣秀林鄉)"
         ],
         "legendgroup": "10",
         "marker": {
          "color": "#19d3f3",
          "size": [
           18
          ],
          "sizemode": "area",
          "sizeref": 0.0878125,
          "symbol": "circle"
         },
         "mode": "markers",
         "name": "10",
         "orientation": "h",
         "showlegend": true,
         "type": "scatter",
         "x": [
          4.6
         ],
         "xaxis": "x",
         "y": [
          "2023/2/17 09:22"
         ],
         "yaxis": "y"
        },
        {
         "hovertemplate": "<b>%{hovertext}</b><br><br>編號=9<br>規模=%{x}<br>地震時間=%{y}<br>深度=%{marker.size}<extra></extra>",
         "hovertext": [
          "花蓮縣政府南方  62.6  公里 (位於花蓮縣近海)(花蓮縣近海)"
         ],
         "legendgroup": "9",
         "marker": {
          "color": "#FF6692",
          "size": [
           34.2
          ],
          "sizemode": "area",
          "sizeref": 0.0878125,
          "symbol": "circle"
         },
         "mode": "markers",
         "name": "9",
         "orientation": "h",
         "showlegend": true,
         "type": "scatter",
         "x": [
          5.2
         ],
         "xaxis": "x",
         "y": [
          "2023/2/11 19:35"
         ],
         "yaxis": "y"
        },
        {
         "hovertemplate": "<b>%{hovertext}</b><br><br>編號=8<br>規模=%{x}<br>地震時間=%{y}<br>深度=%{marker.size}<extra></extra>",
         "hovertext": [
          "花蓮縣政府南方  61.0  公里 (位於花蓮縣近海)(花蓮縣近海)"
         ],
         "legendgroup": "8",
         "marker": {
          "color": "#B6E880",
          "size": [
           36.7
          ],
          "sizemode": "area",
          "sizeref": 0.0878125,
          "symbol": "circle"
         },
         "mode": "markers",
         "name": "8",
         "orientation": "h",
         "showlegend": true,
         "type": "scatter",
         "x": [
          5.6
         ],
         "xaxis": "x",
         "y": [
          "2023/2/8 18:49"
         ],
         "yaxis": "y"
        },
        {
         "hovertemplate": "<b>%{hovertext}</b><br><br>編號=7<br>規模=%{x}<br>地震時間=%{y}<br>深度=%{marker.size}<extra></extra>",
         "hovertext": [
          "宜蘭縣政府東北東方  7.0  公里 (位於宜蘭縣近海)(宜蘭縣近海)"
         ],
         "legendgroup": "7",
         "marker": {
          "color": "#FF97FF",
          "size": [
           79.1
          ],
          "sizemode": "area",
          "sizeref": 0.0878125,
          "symbol": "circle"
         },
         "mode": "markers",
         "name": "7",
         "orientation": "h",
         "showlegend": true,
         "type": "scatter",
         "x": [
          4.5
         ],
         "xaxis": "x",
         "y": [
          "2023/2/8 05:48"
         ],
         "yaxis": "y"
        },
        {
         "hovertemplate": "<b>%{hovertext}</b><br><br>編號=6<br>規模=%{x}<br>地震時間=%{y}<br>深度=%{marker.size}<extra></extra>",
         "hovertext": [
          "花蓮縣政府北北東方  34.3  公里 (位於花蓮縣近海)(花蓮縣近海)"
         ],
         "legendgroup": "6",
         "marker": {
          "color": "#FECB52",
          "size": [
           22.1
          ],
          "sizemode": "area",
          "sizeref": 0.0878125,
          "symbol": "circle"
         },
         "mode": "markers",
         "name": "6",
         "orientation": "h",
         "showlegend": true,
         "type": "scatter",
         "x": [
          5.1
         ],
         "xaxis": "x",
         "y": [
          "2023/2/7 04:20"
         ],
         "yaxis": "y"
        }
       ],
       "layout": {
        "legend": {
         "itemsizing": "constant",
         "title": {
          "text": "編號"
         },
         "tracegroupgap": 0
        },
        "margin": {
         "t": 60
        },
        "template": {
         "data": {
          "bar": [
           {
            "error_x": {
             "color": "#2a3f5f"
            },
            "error_y": {
             "color": "#2a3f5f"
            },
            "marker": {
             "line": {
              "color": "#E5ECF6",
              "width": 0.5
             },
             "pattern": {
              "fillmode": "overlay",
              "size": 10,
              "solidity": 0.2
             }
            },
            "type": "bar"
           }
          ],
          "barpolar": [
           {
            "marker": {
             "line": {
              "color": "#E5ECF6",
              "width": 0.5
             },
             "pattern": {
              "fillmode": "overlay",
              "size": 10,
              "solidity": 0.2
             }
            },
            "type": "barpolar"
           }
          ],
          "carpet": [
           {
            "aaxis": {
             "endlinecolor": "#2a3f5f",
             "gridcolor": "white",
             "linecolor": "white",
             "minorgridcolor": "white",
             "startlinecolor": "#2a3f5f"
            },
            "baxis": {
             "endlinecolor": "#2a3f5f",
             "gridcolor": "white",
             "linecolor": "white",
             "minorgridcolor": "white",
             "startlinecolor": "#2a3f5f"
            },
            "type": "carpet"
           }
          ],
          "choropleth": [
           {
            "colorbar": {
             "outlinewidth": 0,
             "ticks": ""
            },
            "type": "choropleth"
           }
          ],
          "contour": [
           {
            "colorbar": {
             "outlinewidth": 0,
             "ticks": ""
            },
            "colorscale": [
             [
              0,
              "#0d0887"
             ],
             [
              0.1111111111111111,
              "#46039f"
             ],
             [
              0.2222222222222222,
              "#7201a8"
             ],
             [
              0.3333333333333333,
              "#9c179e"
             ],
             [
              0.4444444444444444,
              "#bd3786"
             ],
             [
              0.5555555555555556,
              "#d8576b"
             ],
             [
              0.6666666666666666,
              "#ed7953"
             ],
             [
              0.7777777777777778,
              "#fb9f3a"
             ],
             [
              0.8888888888888888,
              "#fdca26"
             ],
             [
              1,
              "#f0f921"
             ]
            ],
            "type": "contour"
           }
          ],
          "contourcarpet": [
           {
            "colorbar": {
             "outlinewidth": 0,
             "ticks": ""
            },
            "type": "contourcarpet"
           }
          ],
          "heatmap": [
           {
            "colorbar": {
             "outlinewidth": 0,
             "ticks": ""
            },
            "colorscale": [
             [
              0,
              "#0d0887"
             ],
             [
              0.1111111111111111,
              "#46039f"
             ],
             [
              0.2222222222222222,
              "#7201a8"
             ],
             [
              0.3333333333333333,
              "#9c179e"
             ],
             [
              0.4444444444444444,
              "#bd3786"
             ],
             [
              0.5555555555555556,
              "#d8576b"
             ],
             [
              0.6666666666666666,
              "#ed7953"
             ],
             [
              0.7777777777777778,
              "#fb9f3a"
             ],
             [
              0.8888888888888888,
              "#fdca26"
             ],
             [
              1,
              "#f0f921"
             ]
            ],
            "type": "heatmap"
           }
          ],
          "heatmapgl": [
           {
            "colorbar": {
             "outlinewidth": 0,
             "ticks": ""
            },
            "colorscale": [
             [
              0,
              "#0d0887"
             ],
             [
              0.1111111111111111,
              "#46039f"
             ],
             [
              0.2222222222222222,
              "#7201a8"
             ],
             [
              0.3333333333333333,
              "#9c179e"
             ],
             [
              0.4444444444444444,
              "#bd3786"
             ],
             [
              0.5555555555555556,
              "#d8576b"
             ],
             [
              0.6666666666666666,
              "#ed7953"
             ],
             [
              0.7777777777777778,
              "#fb9f3a"
             ],
             [
              0.8888888888888888,
              "#fdca26"
             ],
             [
              1,
              "#f0f921"
             ]
            ],
            "type": "heatmapgl"
           }
          ],
          "histogram": [
           {
            "marker": {
             "pattern": {
              "fillmode": "overlay",
              "size": 10,
              "solidity": 0.2
             }
            },
            "type": "histogram"
           }
          ],
          "histogram2d": [
           {
            "colorbar": {
             "outlinewidth": 0,
             "ticks": ""
            },
            "colorscale": [
             [
              0,
              "#0d0887"
             ],
             [
              0.1111111111111111,
              "#46039f"
             ],
             [
              0.2222222222222222,
              "#7201a8"
             ],
             [
              0.3333333333333333,
              "#9c179e"
             ],
             [
              0.4444444444444444,
              "#bd3786"
             ],
             [
              0.5555555555555556,
              "#d8576b"
             ],
             [
              0.6666666666666666,
              "#ed7953"
             ],
             [
              0.7777777777777778,
              "#fb9f3a"
             ],
             [
              0.8888888888888888,
              "#fdca26"
             ],
             [
              1,
              "#f0f921"
             ]
            ],
            "type": "histogram2d"
           }
          ],
          "histogram2dcontour": [
           {
            "colorbar": {
             "outlinewidth": 0,
             "ticks": ""
            },
            "colorscale": [
             [
              0,
              "#0d0887"
             ],
             [
              0.1111111111111111,
              "#46039f"
             ],
             [
              0.2222222222222222,
              "#7201a8"
             ],
             [
              0.3333333333333333,
              "#9c179e"
             ],
             [
              0.4444444444444444,
              "#bd3786"
             ],
             [
              0.5555555555555556,
              "#d8576b"
             ],
             [
              0.6666666666666666,
              "#ed7953"
             ],
             [
              0.7777777777777778,
              "#fb9f3a"
             ],
             [
              0.8888888888888888,
              "#fdca26"
             ],
             [
              1,
              "#f0f921"
             ]
            ],
            "type": "histogram2dcontour"
           }
          ],
          "mesh3d": [
           {
            "colorbar": {
             "outlinewidth": 0,
             "ticks": ""
            },
            "type": "mesh3d"
           }
          ],
          "parcoords": [
           {
            "line": {
             "colorbar": {
              "outlinewidth": 0,
              "ticks": ""
             }
            },
            "type": "parcoords"
           }
          ],
          "pie": [
           {
            "automargin": true,
            "type": "pie"
           }
          ],
          "scatter": [
           {
            "fillpattern": {
             "fillmode": "overlay",
             "size": 10,
             "solidity": 0.2
            },
            "type": "scatter"
           }
          ],
          "scatter3d": [
           {
            "line": {
             "colorbar": {
              "outlinewidth": 0,
              "ticks": ""
             }
            },
            "marker": {
             "colorbar": {
              "outlinewidth": 0,
              "ticks": ""
             }
            },
            "type": "scatter3d"
           }
          ],
          "scattercarpet": [
           {
            "marker": {
             "colorbar": {
              "outlinewidth": 0,
              "ticks": ""
             }
            },
            "type": "scattercarpet"
           }
          ],
          "scattergeo": [
           {
            "marker": {
             "colorbar": {
              "outlinewidth": 0,
              "ticks": ""
             }
            },
            "type": "scattergeo"
           }
          ],
          "scattergl": [
           {
            "marker": {
             "colorbar": {
              "outlinewidth": 0,
              "ticks": ""
             }
            },
            "type": "scattergl"
           }
          ],
          "scattermapbox": [
           {
            "marker": {
             "colorbar": {
              "outlinewidth": 0,
              "ticks": ""
             }
            },
            "type": "scattermapbox"
           }
          ],
          "scatterpolar": [
           {
            "marker": {
             "colorbar": {
              "outlinewidth": 0,
              "ticks": ""
             }
            },
            "type": "scatterpolar"
           }
          ],
          "scatterpolargl": [
           {
            "marker": {
             "colorbar": {
              "outlinewidth": 0,
              "ticks": ""
             }
            },
            "type": "scatterpolargl"
           }
          ],
          "scatterternary": [
           {
            "marker": {
             "colorbar": {
              "outlinewidth": 0,
              "ticks": ""
             }
            },
            "type": "scatterternary"
           }
          ],
          "surface": [
           {
            "colorbar": {
             "outlinewidth": 0,
             "ticks": ""
            },
            "colorscale": [
             [
              0,
              "#0d0887"
             ],
             [
              0.1111111111111111,
              "#46039f"
             ],
             [
              0.2222222222222222,
              "#7201a8"
             ],
             [
              0.3333333333333333,
              "#9c179e"
             ],
             [
              0.4444444444444444,
              "#bd3786"
             ],
             [
              0.5555555555555556,
              "#d8576b"
             ],
             [
              0.6666666666666666,
              "#ed7953"
             ],
             [
              0.7777777777777778,
              "#fb9f3a"
             ],
             [
              0.8888888888888888,
              "#fdca26"
             ],
             [
              1,
              "#f0f921"
             ]
            ],
            "type": "surface"
           }
          ],
          "table": [
           {
            "cells": {
             "fill": {
              "color": "#EBF0F8"
             },
             "line": {
              "color": "white"
             }
            },
            "header": {
             "fill": {
              "color": "#C8D4E3"
             },
             "line": {
              "color": "white"
             }
            },
            "type": "table"
           }
          ]
         },
         "layout": {
          "annotationdefaults": {
           "arrowcolor": "#2a3f5f",
           "arrowhead": 0,
           "arrowwidth": 1
          },
          "autotypenumbers": "strict",
          "coloraxis": {
           "colorbar": {
            "outlinewidth": 0,
            "ticks": ""
           }
          },
          "colorscale": {
           "diverging": [
            [
             0,
             "#8e0152"
            ],
            [
             0.1,
             "#c51b7d"
            ],
            [
             0.2,
             "#de77ae"
            ],
            [
             0.3,
             "#f1b6da"
            ],
            [
             0.4,
             "#fde0ef"
            ],
            [
             0.5,
             "#f7f7f7"
            ],
            [
             0.6,
             "#e6f5d0"
            ],
            [
             0.7,
             "#b8e186"
            ],
            [
             0.8,
             "#7fbc41"
            ],
            [
             0.9,
             "#4d9221"
            ],
            [
             1,
             "#276419"
            ]
           ],
           "sequential": [
            [
             0,
             "#0d0887"
            ],
            [
             0.1111111111111111,
             "#46039f"
            ],
            [
             0.2222222222222222,
             "#7201a8"
            ],
            [
             0.3333333333333333,
             "#9c179e"
            ],
            [
             0.4444444444444444,
             "#bd3786"
            ],
            [
             0.5555555555555556,
             "#d8576b"
            ],
            [
             0.6666666666666666,
             "#ed7953"
            ],
            [
             0.7777777777777778,
             "#fb9f3a"
            ],
            [
             0.8888888888888888,
             "#fdca26"
            ],
            [
             1,
             "#f0f921"
            ]
           ],
           "sequentialminus": [
            [
             0,
             "#0d0887"
            ],
            [
             0.1111111111111111,
             "#46039f"
            ],
            [
             0.2222222222222222,
             "#7201a8"
            ],
            [
             0.3333333333333333,
             "#9c179e"
            ],
            [
             0.4444444444444444,
             "#bd3786"
            ],
            [
             0.5555555555555556,
             "#d8576b"
            ],
            [
             0.6666666666666666,
             "#ed7953"
            ],
            [
             0.7777777777777778,
             "#fb9f3a"
            ],
            [
             0.8888888888888888,
             "#fdca26"
            ],
            [
             1,
             "#f0f921"
            ]
           ]
          },
          "colorway": [
           "#636efa",
           "#EF553B",
           "#00cc96",
           "#ab63fa",
           "#FFA15A",
           "#19d3f3",
           "#FF6692",
           "#B6E880",
           "#FF97FF",
           "#FECB52"
          ],
          "font": {
           "color": "#2a3f5f"
          },
          "geo": {
           "bgcolor": "white",
           "lakecolor": "white",
           "landcolor": "#E5ECF6",
           "showlakes": true,
           "showland": true,
           "subunitcolor": "white"
          },
          "hoverlabel": {
           "align": "left"
          },
          "hovermode": "closest",
          "mapbox": {
           "style": "light"
          },
          "paper_bgcolor": "white",
          "plot_bgcolor": "#E5ECF6",
          "polar": {
           "angularaxis": {
            "gridcolor": "white",
            "linecolor": "white",
            "ticks": ""
           },
           "bgcolor": "#E5ECF6",
           "radialaxis": {
            "gridcolor": "white",
            "linecolor": "white",
            "ticks": ""
           }
          },
          "scene": {
           "xaxis": {
            "backgroundcolor": "#E5ECF6",
            "gridcolor": "white",
            "gridwidth": 2,
            "linecolor": "white",
            "showbackground": true,
            "ticks": "",
            "zerolinecolor": "white"
           },
           "yaxis": {
            "backgroundcolor": "#E5ECF6",
            "gridcolor": "white",
            "gridwidth": 2,
            "linecolor": "white",
            "showbackground": true,
            "ticks": "",
            "zerolinecolor": "white"
           },
           "zaxis": {
            "backgroundcolor": "#E5ECF6",
            "gridcolor": "white",
            "gridwidth": 2,
            "linecolor": "white",
            "showbackground": true,
            "ticks": "",
            "zerolinecolor": "white"
           }
          },
          "shapedefaults": {
           "line": {
            "color": "#2a3f5f"
           }
          },
          "ternary": {
           "aaxis": {
            "gridcolor": "white",
            "linecolor": "white",
            "ticks": ""
           },
           "baxis": {
            "gridcolor": "white",
            "linecolor": "white",
            "ticks": ""
           },
           "bgcolor": "#E5ECF6",
           "caxis": {
            "gridcolor": "white",
            "linecolor": "white",
            "ticks": ""
           }
          },
          "title": {
           "x": 0.05
          },
          "xaxis": {
           "automargin": true,
           "gridcolor": "white",
           "linecolor": "white",
           "ticks": "",
           "title": {
            "standoff": 15
           },
           "zerolinecolor": "white",
           "zerolinewidth": 2
          },
          "yaxis": {
           "automargin": true,
           "gridcolor": "white",
           "linecolor": "white",
           "ticks": "",
           "title": {
            "standoff": 15
           },
           "zerolinecolor": "white",
           "zerolinewidth": 2
          }
         }
        },
        "xaxis": {
         "anchor": "y",
         "domain": [
          0,
          1
         ],
         "title": {
          "text": "規模"
         }
        },
        "yaxis": {
         "anchor": "x",
         "domain": [
          0,
          1
         ],
         "title": {
          "text": "地震時間"
         }
        }
       }
      },
      "text/html": [
       "<div>                            <div id=\"4d06981a-d066-4c1c-8e37-6509dc83e036\" class=\"plotly-graph-div\" style=\"height:525px; width:100%;\"></div>            <script type=\"text/javascript\">                require([\"plotly\"], function(Plotly) {                    window.PLOTLYENV=window.PLOTLYENV || {};                                    if (document.getElementById(\"4d06981a-d066-4c1c-8e37-6509dc83e036\")) {                    Plotly.newPlot(                        \"4d06981a-d066-4c1c-8e37-6509dc83e036\",                        [{\"hovertemplate\":\"<b>%{hovertext}</b><br><br>\\u7de8\\u865f=\\u5c0f\\u5340\\u57df\\u6709\\u611f\\u5730\\u9707<br>\\u898f\\u6a21=%{x}<br>\\u5730\\u9707\\u6642\\u9593=%{y}<br>\\u6df1\\u5ea6=%{marker.size}<extra></extra>\",\"hovertext\":[\"\\u81fa\\u6771\\u7e23\\u653f\\u5e9c\\u5317\\u5317\\u6771\\u65b9  52.6  \\u516c\\u91cc (\\u4f4d\\u65bc\\u81fa\\u6771\\u7e23\\u6210\\u529f\\u93ae)(\\u81fa\\u6771\\u7e23\\u6210\\u529f\\u93ae)\",\"\\u82b1\\u84ee\\u7e23\\u653f\\u5e9c\\u5317\\u65b9  37.3  \\u516c\\u91cc (\\u4f4d\\u65bc\\u82b1\\u84ee\\u7e23\\u79c0\\u6797\\u9109)(\\u82b1\\u84ee\\u7e23\\u79c0\\u6797\\u9109)\",\"\\u81fa\\u6771\\u7e23\\u653f\\u5e9c\\u5357\\u5357\\u6771\\u65b9  36.0  \\u516c\\u91cc (\\u4f4d\\u65bc\\u81fa\\u7063\\u6771\\u5357\\u90e8\\u6d77\\u57df)(\\u81fa\\u7063\\u6771\\u5357\\u90e8\\u6d77\\u57df)\",\"\\u81fa\\u6771\\u7e23\\u653f\\u5e9c\\u5317\\u5317\\u6771\\u65b9  52.2  \\u516c\\u91cc (\\u4f4d\\u65bc\\u81fa\\u6771\\u7e23\\u6210\\u529f\\u93ae)(\\u81fa\\u6771\\u7e23\\u6210\\u529f\\u93ae)\",\"\\u82b1\\u84ee\\u7e23\\u653f\\u5e9c\\u6771\\u65b9  11.0  \\u516c\\u91cc (\\u4f4d\\u65bc\\u81fa\\u7063\\u6771\\u90e8\\u6d77\\u57df)(\\u81fa\\u7063\\u6771\\u90e8\\u6d77\\u57df)\",\"\\u5b9c\\u862d\\u7e23\\u653f\\u5e9c\\u6771\\u65b9  163.2  \\u516c\\u91cc (\\u4f4d\\u65bc\\u81fa\\u7063\\u6771\\u90e8\\u6d77\\u57df)(\\u81fa\\u7063\\u6771\\u90e8\\u6d77\\u57df)\",\"\\u82b1\\u84ee\\u7e23\\u653f\\u5e9c\\u897f\\u5357\\u65b9  32.7  \\u516c\\u91cc (\\u4f4d\\u65bc\\u82b1\\u84ee\\u7e23\\u9cf3\\u6797\\u93ae)(\\u82b1\\u84ee\\u7e23\\u9cf3\\u6797\\u93ae)\",\"\\u5b9c\\u862d\\u7e23\\u653f\\u5e9c\\u5357\\u5357\\u6771\\u65b9  38.9  \\u516c\\u91cc (\\u4f4d\\u65bc\\u81fa\\u7063\\u6771\\u90e8\\u6d77\\u57df)(\\u81fa\\u7063\\u6771\\u90e8\\u6d77\\u57df)\",\"\\u5b9c\\u862d\\u7e23\\u653f\\u5e9c\\u5357\\u5357\\u6771\\u65b9  36.1  \\u516c\\u91cc (\\u4f4d\\u65bc\\u5b9c\\u862d\\u7e23\\u8fd1\\u6d77)(\\u5b9c\\u862d\\u7e23\\u8fd1\\u6d77)\",\"\\u82b1\\u84ee\\u7e23\\u653f\\u5e9c\\u897f\\u5357\\u65b9  33.1  \\u516c\\u91cc (\\u4f4d\\u65bc\\u82b1\\u84ee\\u7e23\\u9cf3\\u6797\\u93ae)(\\u82b1\\u84ee\\u7e23\\u9cf3\\u6797\\u93ae)\",\"\\u5c4f\\u6771\\u7e23\\u653f\\u5e9c\\u6771\\u5357\\u65b9  66.2  \\u516c\\u91cc (\\u4f4d\\u65bc\\u5c4f\\u6771\\u7e23\\u7261\\u4e39\\u9109)(\\u5c4f\\u6771\\u7e23\\u7261\\u4e39\\u9109)\",\"\\u82b1\\u84ee\\u7e23\\u653f\\u5e9c\\u897f\\u5317\\u65b9  14.2  \\u516c\\u91cc (\\u4f4d\\u65bc\\u82b1\\u84ee\\u7e23\\u79c0\\u6797\\u9109)(\\u82b1\\u84ee\\u7e23\\u79c0\\u6797\\u9109)\",\"\\u82b1\\u84ee\\u7e23\\u653f\\u5e9c\\u5317\\u5317\\u6771\\u65b9  34.5  \\u516c\\u91cc (\\u4f4d\\u65bc\\u82b1\\u84ee\\u7e23\\u8fd1\\u6d77)(\\u82b1\\u84ee\\u7e23\\u8fd1\\u6d77)\",\"\\u82b1\\u84ee\\u7e23\\u653f\\u5e9c\\u897f\\u5357\\u897f\\u65b9  15.3  \\u516c\\u91cc (\\u4f4d\\u65bc\\u82b1\\u84ee\\u7e23\\u79c0\\u6797\\u9109)(\\u82b1\\u84ee\\u7e23\\u79c0\\u6797\\u9109)\",\"\\u81fa\\u5317\\u5e02\\u653f\\u5e9c\\u5317\\u65b9  13.7  \\u516c\\u91cc (\\u4f4d\\u65bc\\u81fa\\u5317\\u5e02\\u58eb\\u6797\\u5340)(\\u81fa\\u5317\\u5e02\\u58eb\\u6797\\u5340)\",\"\\u9ad8\\u96c4\\u5e02\\u653f\\u5e9c\\u6771\\u5317\\u65b9  40.2  \\u516c\\u91cc (\\u4f4d\\u65bc\\u9ad8\\u96c4\\u5e02\\u7f8e\\u6fc3\\u5340)(\\u9ad8\\u96c4\\u5e02\\u7f8e\\u6fc3\\u5340)\",\"\\u82b1\\u84ee\\u7e23\\u653f\\u5e9c\\u5357\\u5357\\u897f\\u65b9  89.4  \\u516c\\u91cc (\\u4f4d\\u65bc\\u82b1\\u84ee\\u7e23\\u5353\\u6eaa\\u9109)(\\u82b1\\u84ee\\u7e23\\u5353\\u6eaa\\u9109)\",\"\\u81fa\\u6771\\u7e23\\u653f\\u5e9c\\u5317\\u65b9  38.2  \\u516c\\u91cc (\\u4f4d\\u65bc\\u81fa\\u6771\\u7e23\\u6d77\\u7aef\\u9109)(\\u81fa\\u6771\\u7e23\\u6d77\\u7aef\\u9109)\",\"\\u82b1\\u84ee\\u7e23\\u653f\\u5e9c\\u5317\\u5317\\u6771\\u65b9  34.3  \\u516c\\u91cc (\\u4f4d\\u65bc\\u82b1\\u84ee\\u7e23\\u8fd1\\u6d77)(\\u82b1\\u84ee\\u7e23\\u8fd1\\u6d77)\",\"\\u6843\\u5712\\u5e02\\u653f\\u5e9c\\u5357\\u5357\\u6771\\u65b9  28.2  \\u516c\\u91cc (\\u4f4d\\u65bc\\u6843\\u5712\\u5e02\\u5fa9\\u8208\\u5340)(\\u6843\\u5712\\u5e02\\u5fa9\\u8208\\u5340)\",\"\\u81fa\\u6771\\u7e23\\u653f\\u5e9c\\u5357\\u5357\\u6771\\u65b9  74.1  \\u516c\\u91cc (\\u4f4d\\u65bc\\u81fa\\u7063\\u6771\\u5357\\u90e8\\u6d77\\u57df)(\\u81fa\\u7063\\u6771\\u5357\\u90e8\\u6d77\\u57df)\",\"\\u5b9c\\u862d\\u7e23\\u653f\\u5e9c\\u6771\\u5357\\u65b9  23.3  \\u516c\\u91cc (\\u4f4d\\u65bc\\u5b9c\\u862d\\u7e23\\u8fd1\\u6d77)(\\u5b9c\\u862d\\u7e23\\u8fd1\\u6d77)\",\"\\u82b1\\u84ee\\u7e23\\u653f\\u5e9c\\u897f\\u5357\\u897f\\u65b9  13.7  \\u516c\\u91cc (\\u4f4d\\u65bc\\u82b1\\u84ee\\u7e23\\u79c0\\u6797\\u9109)(\\u82b1\\u84ee\\u7e23\\u79c0\\u6797\\u9109)\",\"\\u81fa\\u6771\\u7e23\\u653f\\u5e9c\\u5317\\u5317\\u6771\\u65b9  66.8  \\u516c\\u91cc (\\u4f4d\\u65bc\\u81fa\\u6771\\u7e23\\u9577\\u6ff1\\u9109)(\\u81fa\\u6771\\u7e23\\u9577\\u6ff1\\u9109)\",\"\\u82b1\\u84ee\\u7e23\\u653f\\u5e9c\\u6771\\u5357\\u6771\\u65b9  42.5  \\u516c\\u91cc (\\u4f4d\\u65bc\\u81fa\\u7063\\u6771\\u90e8\\u6d77\\u57df)(\\u81fa\\u7063\\u6771\\u90e8\\u6d77\\u57df)\",\"\\u82b1\\u84ee\\u7e23\\u653f\\u5e9c\\u5317\\u5317\\u6771\\u65b9  34.2  \\u516c\\u91cc (\\u4f4d\\u65bc\\u82b1\\u84ee\\u7e23\\u8fd1\\u6d77)(\\u82b1\\u84ee\\u7e23\\u8fd1\\u6d77)\",\"\\u82b1\\u84ee\\u7e23\\u653f\\u5e9c\\u5317\\u5317\\u6771\\u65b9  33.5  \\u516c\\u91cc (\\u4f4d\\u65bc\\u82b1\\u84ee\\u7e23\\u8fd1\\u6d77)(\\u82b1\\u84ee\\u7e23\\u8fd1\\u6d77)\",\"\\u82b1\\u84ee\\u7e23\\u653f\\u5e9c\\u5357\\u5357\\u897f\\u65b9  69.4  \\u516c\\u91cc (\\u4f4d\\u65bc\\u82b1\\u84ee\\u7e23\\u5353\\u6eaa\\u9109)(\\u82b1\\u84ee\\u7e23\\u5353\\u6eaa\\u9109)\",\"\\u5609\\u7fa9\\u7e23\\u653f\\u5e9c\\u6771\\u65b9  43.8  \\u516c\\u91cc (\\u4f4d\\u65bc\\u5609\\u7fa9\\u7e23\\u963f\\u91cc\\u5c71\\u9109)(\\u5609\\u7fa9\\u7e23\\u963f\\u91cc\\u5c71\\u9109)\",\"\\u5b9c\\u862d\\u7e23\\u653f\\u5e9c\\u897f\\u5357\\u65b9  18.2  \\u516c\\u91cc (\\u4f4d\\u65bc\\u5b9c\\u862d\\u7e23\\u5927\\u540c\\u9109)(\\u5b9c\\u862d\\u7e23\\u5927\\u540c\\u9109)\",\"\\u81fa\\u5357\\u5e02\\u653f\\u5e9c\\u6771\\u5317\\u6771\\u65b9  38.9  \\u516c\\u91cc (\\u4f4d\\u65bc\\u81fa\\u5357\\u5e02\\u5357\\u5316\\u5340)(\\u81fa\\u5357\\u5e02\\u5357\\u5316\\u5340)\",\"\\u82b1\\u84ee\\u7e23\\u653f\\u5e9c\\u5317\\u5317\\u6771\\u65b9  32.8  \\u516c\\u91cc (\\u4f4d\\u65bc\\u82b1\\u84ee\\u7e23\\u8fd1\\u6d77)(\\u82b1\\u84ee\\u7e23\\u8fd1\\u6d77)\"],\"legendgroup\":\"\\u5c0f\\u5340\\u57df\\u6709\\u611f\\u5730\\u9707\",\"marker\":{\"color\":\"#636efa\",\"size\":[18.7,25.1,16.1,17.0,3.6,140.5,12.2,26.7,26.0,11.3,7.1,20.6,21.6,18.4,4.7,9.1,17.3,14.5,21.3,6.4,24.1,13.6,17.3,27.0,39.4,21.8,21.0,11.7,7.8,48.1,12.6,14.6],\"sizemode\":\"area\",\"sizeref\":0.0878125,\"symbol\":\"circle\"},\"mode\":\"markers\",\"name\":\"\\u5c0f\\u5340\\u57df\\u6709\\u611f\\u5730\\u9707\",\"orientation\":\"h\",\"showlegend\":true,\"x\":[4.1,3.4,4.6,3.2,3.5,5.4,3.9,3.9,4.2,3.9,3.5,3.7,3.4,3.9,3.3,4.1,4.0,4.0,3.5,3.9,3.9,3.7,3.1,3.8,4.3,4.1,3.3,3.6,3.4,3.8,3.7,3.4],\"xaxis\":\"x\",\"y\":[\"2023/2/28 03:30\",\"2023/2/26 14:22\",\"2023/2/26 00:03\",\"2023/2/25 14:06\",\"2023/2/23 07:55\",\"2023/2/22 01:00\",\"2023/2/21 12:39\",\"2023/2/21 12:29\",\"2023/2/21 12:22\",\"2023/2/21 07:39\",\"2023/2/18 16:34\",\"2023/2/18 10:48\",\"2023/2/17 15:07\",\"2023/2/17 09:35\",\"2023/2/17 09:08\",\"2023/2/16 08:30\",\"2023/2/13 15:34\",\"2023/2/13 05:51\",\"2023/2/12 04:40\",\"2023/2/11 05:18\",\"2023/2/10 23:12\",\"2023/2/10 08:07\",\"2023/2/10 02:59\",\"2023/2/10 01:52\",\"2023/2/8 12:18\",\"2023/2/7 06:12\",\"2023/2/7 04:26\",\"2023/2/6 14:37\",\"2023/2/4 03:06\",\"2023/2/3 22:48\",\"2023/2/2 13:54\",\"2023/2/1 16:03\"],\"yaxis\":\"y\",\"type\":\"scatter\"},{\"hovertemplate\":\"<b>%{hovertext}</b><br><br>\\u7de8\\u865f=14<br>\\u898f\\u6a21=%{x}<br>\\u5730\\u9707\\u6642\\u9593=%{y}<br>\\u6df1\\u5ea6=%{marker.size}<extra></extra>\",\"hovertext\":[\"\\u82b1\\u84ee\\u7e23\\u653f\\u5e9c\\u6771\\u65b9  11.7  \\u516c\\u91cc (\\u4f4d\\u65bc\\u81fa\\u7063\\u6771\\u90e8\\u6d77\\u57df)(\\u81fa\\u7063\\u6771\\u90e8\\u6d77\\u57df)\"],\"legendgroup\":\"14\",\"marker\":{\"color\":\"#EF553B\",\"size\":[6.9],\"sizemode\":\"area\",\"sizeref\":0.0878125,\"symbol\":\"circle\"},\"mode\":\"markers\",\"name\":\"14\",\"orientation\":\"h\",\"showlegend\":true,\"x\":[4.6],\"xaxis\":\"x\",\"y\":[\"2023/2/23 05:18\"],\"yaxis\":\"y\",\"type\":\"scatter\"},{\"hovertemplate\":\"<b>%{hovertext}</b><br><br>\\u7de8\\u865f=13<br>\\u898f\\u6a21=%{x}<br>\\u5730\\u9707\\u6642\\u9593=%{y}<br>\\u6df1\\u5ea6=%{marker.size}<extra></extra>\",\"hovertext\":[\"\\u82b1\\u84ee\\u7e23\\u653f\\u5e9c\\u5357\\u65b9  52.6  \\u516c\\u91cc (\\u4f4d\\u65bc\\u81fa\\u7063\\u6771\\u90e8\\u6d77\\u57df)(\\u81fa\\u7063\\u6771\\u90e8\\u6d77\\u57df)\"],\"legendgroup\":\"13\",\"marker\":{\"color\":\"#00cc96\",\"size\":[31.3],\"sizemode\":\"area\",\"sizeref\":0.0878125,\"symbol\":\"circle\"},\"mode\":\"markers\",\"name\":\"13\",\"orientation\":\"h\",\"showlegend\":true,\"x\":[4.8],\"xaxis\":\"x\",\"y\":[\"2023/2/21 19:01\"],\"yaxis\":\"y\",\"type\":\"scatter\"},{\"hovertemplate\":\"<b>%{hovertext}</b><br><br>\\u7de8\\u865f=12<br>\\u898f\\u6a21=%{x}<br>\\u5730\\u9707\\u6642\\u9593=%{y}<br>\\u6df1\\u5ea6=%{marker.size}<extra></extra>\",\"hovertext\":[\"\\u5b9c\\u862d\\u7e23\\u653f\\u5e9c\\u897f\\u5357\\u897f\\u65b9  14.7  \\u516c\\u91cc (\\u4f4d\\u65bc\\u5b9c\\u862d\\u7e23\\u4e09\\u661f\\u9109)(\\u5b9c\\u862d\\u7e23\\u4e09\\u661f\\u9109)\"],\"legendgroup\":\"12\",\"marker\":{\"color\":\"#ab63fa\",\"size\":[54.6],\"sizemode\":\"area\",\"sizeref\":0.0878125,\"symbol\":\"circle\"},\"mode\":\"markers\",\"name\":\"12\",\"orientation\":\"h\",\"showlegend\":true,\"x\":[4.6],\"xaxis\":\"x\",\"y\":[\"2023/2/19 07:32\"],\"yaxis\":\"y\",\"type\":\"scatter\"},{\"hovertemplate\":\"<b>%{hovertext}</b><br><br>\\u7de8\\u865f=11<br>\\u898f\\u6a21=%{x}<br>\\u5730\\u9707\\u6642\\u9593=%{y}<br>\\u6df1\\u5ea6=%{marker.size}<extra></extra>\",\"hovertext\":[\"\\u5357\\u6295\\u7e23\\u653f\\u5e9c\\u5357\\u5357\\u6771\\u65b9  22.8  \\u516c\\u91cc (\\u4f4d\\u65bc\\u5357\\u6295\\u7e23\\u9e7f\\u8c37\\u9109)(\\u5357\\u6295\\u7e23\\u9e7f\\u8c37\\u9109)\"],\"legendgroup\":\"11\",\"marker\":{\"color\":\"#FFA15A\",\"size\":[21.4],\"sizemode\":\"area\",\"sizeref\":0.0878125,\"symbol\":\"circle\"},\"mode\":\"markers\",\"name\":\"11\",\"orientation\":\"h\",\"showlegend\":true,\"x\":[5.1],\"xaxis\":\"x\",\"y\":[\"2023/2/18 23:49\"],\"yaxis\":\"y\",\"type\":\"scatter\"},{\"hovertemplate\":\"<b>%{hovertext}</b><br><br>\\u7de8\\u865f=10<br>\\u898f\\u6a21=%{x}<br>\\u5730\\u9707\\u6642\\u9593=%{y}<br>\\u6df1\\u5ea6=%{marker.size}<extra></extra>\",\"hovertext\":[\"\\u82b1\\u84ee\\u7e23\\u653f\\u5e9c\\u897f\\u5357\\u897f\\u65b9  16.2  \\u516c\\u91cc (\\u4f4d\\u65bc\\u82b1\\u84ee\\u7e23\\u79c0\\u6797\\u9109)(\\u82b1\\u84ee\\u7e23\\u79c0\\u6797\\u9109)\"],\"legendgroup\":\"10\",\"marker\":{\"color\":\"#19d3f3\",\"size\":[18.0],\"sizemode\":\"area\",\"sizeref\":0.0878125,\"symbol\":\"circle\"},\"mode\":\"markers\",\"name\":\"10\",\"orientation\":\"h\",\"showlegend\":true,\"x\":[4.6],\"xaxis\":\"x\",\"y\":[\"2023/2/17 09:22\"],\"yaxis\":\"y\",\"type\":\"scatter\"},{\"hovertemplate\":\"<b>%{hovertext}</b><br><br>\\u7de8\\u865f=9<br>\\u898f\\u6a21=%{x}<br>\\u5730\\u9707\\u6642\\u9593=%{y}<br>\\u6df1\\u5ea6=%{marker.size}<extra></extra>\",\"hovertext\":[\"\\u82b1\\u84ee\\u7e23\\u653f\\u5e9c\\u5357\\u65b9  62.6  \\u516c\\u91cc (\\u4f4d\\u65bc\\u82b1\\u84ee\\u7e23\\u8fd1\\u6d77)(\\u82b1\\u84ee\\u7e23\\u8fd1\\u6d77)\"],\"legendgroup\":\"9\",\"marker\":{\"color\":\"#FF6692\",\"size\":[34.2],\"sizemode\":\"area\",\"sizeref\":0.0878125,\"symbol\":\"circle\"},\"mode\":\"markers\",\"name\":\"9\",\"orientation\":\"h\",\"showlegend\":true,\"x\":[5.2],\"xaxis\":\"x\",\"y\":[\"2023/2/11 19:35\"],\"yaxis\":\"y\",\"type\":\"scatter\"},{\"hovertemplate\":\"<b>%{hovertext}</b><br><br>\\u7de8\\u865f=8<br>\\u898f\\u6a21=%{x}<br>\\u5730\\u9707\\u6642\\u9593=%{y}<br>\\u6df1\\u5ea6=%{marker.size}<extra></extra>\",\"hovertext\":[\"\\u82b1\\u84ee\\u7e23\\u653f\\u5e9c\\u5357\\u65b9  61.0  \\u516c\\u91cc (\\u4f4d\\u65bc\\u82b1\\u84ee\\u7e23\\u8fd1\\u6d77)(\\u82b1\\u84ee\\u7e23\\u8fd1\\u6d77)\"],\"legendgroup\":\"8\",\"marker\":{\"color\":\"#B6E880\",\"size\":[36.7],\"sizemode\":\"area\",\"sizeref\":0.0878125,\"symbol\":\"circle\"},\"mode\":\"markers\",\"name\":\"8\",\"orientation\":\"h\",\"showlegend\":true,\"x\":[5.6],\"xaxis\":\"x\",\"y\":[\"2023/2/8 18:49\"],\"yaxis\":\"y\",\"type\":\"scatter\"},{\"hovertemplate\":\"<b>%{hovertext}</b><br><br>\\u7de8\\u865f=7<br>\\u898f\\u6a21=%{x}<br>\\u5730\\u9707\\u6642\\u9593=%{y}<br>\\u6df1\\u5ea6=%{marker.size}<extra></extra>\",\"hovertext\":[\"\\u5b9c\\u862d\\u7e23\\u653f\\u5e9c\\u6771\\u5317\\u6771\\u65b9  7.0  \\u516c\\u91cc (\\u4f4d\\u65bc\\u5b9c\\u862d\\u7e23\\u8fd1\\u6d77)(\\u5b9c\\u862d\\u7e23\\u8fd1\\u6d77)\"],\"legendgroup\":\"7\",\"marker\":{\"color\":\"#FF97FF\",\"size\":[79.1],\"sizemode\":\"area\",\"sizeref\":0.0878125,\"symbol\":\"circle\"},\"mode\":\"markers\",\"name\":\"7\",\"orientation\":\"h\",\"showlegend\":true,\"x\":[4.5],\"xaxis\":\"x\",\"y\":[\"2023/2/8 05:48\"],\"yaxis\":\"y\",\"type\":\"scatter\"},{\"hovertemplate\":\"<b>%{hovertext}</b><br><br>\\u7de8\\u865f=6<br>\\u898f\\u6a21=%{x}<br>\\u5730\\u9707\\u6642\\u9593=%{y}<br>\\u6df1\\u5ea6=%{marker.size}<extra></extra>\",\"hovertext\":[\"\\u82b1\\u84ee\\u7e23\\u653f\\u5e9c\\u5317\\u5317\\u6771\\u65b9  34.3  \\u516c\\u91cc (\\u4f4d\\u65bc\\u82b1\\u84ee\\u7e23\\u8fd1\\u6d77)(\\u82b1\\u84ee\\u7e23\\u8fd1\\u6d77)\"],\"legendgroup\":\"6\",\"marker\":{\"color\":\"#FECB52\",\"size\":[22.1],\"sizemode\":\"area\",\"sizeref\":0.0878125,\"symbol\":\"circle\"},\"mode\":\"markers\",\"name\":\"6\",\"orientation\":\"h\",\"showlegend\":true,\"x\":[5.1],\"xaxis\":\"x\",\"y\":[\"2023/2/7 04:20\"],\"yaxis\":\"y\",\"type\":\"scatter\"}],                        {\"template\":{\"data\":{\"histogram2dcontour\":[{\"type\":\"histogram2dcontour\",\"colorbar\":{\"outlinewidth\":0,\"ticks\":\"\"},\"colorscale\":[[0.0,\"#0d0887\"],[0.1111111111111111,\"#46039f\"],[0.2222222222222222,\"#7201a8\"],[0.3333333333333333,\"#9c179e\"],[0.4444444444444444,\"#bd3786\"],[0.5555555555555556,\"#d8576b\"],[0.6666666666666666,\"#ed7953\"],[0.7777777777777778,\"#fb9f3a\"],[0.8888888888888888,\"#fdca26\"],[1.0,\"#f0f921\"]]}],\"choropleth\":[{\"type\":\"choropleth\",\"colorbar\":{\"outlinewidth\":0,\"ticks\":\"\"}}],\"histogram2d\":[{\"type\":\"histogram2d\",\"colorbar\":{\"outlinewidth\":0,\"ticks\":\"\"},\"colorscale\":[[0.0,\"#0d0887\"],[0.1111111111111111,\"#46039f\"],[0.2222222222222222,\"#7201a8\"],[0.3333333333333333,\"#9c179e\"],[0.4444444444444444,\"#bd3786\"],[0.5555555555555556,\"#d8576b\"],[0.6666666666666666,\"#ed7953\"],[0.7777777777777778,\"#fb9f3a\"],[0.8888888888888888,\"#fdca26\"],[1.0,\"#f0f921\"]]}],\"heatmap\":[{\"type\":\"heatmap\",\"colorbar\":{\"outlinewidth\":0,\"ticks\":\"\"},\"colorscale\":[[0.0,\"#0d0887\"],[0.1111111111111111,\"#46039f\"],[0.2222222222222222,\"#7201a8\"],[0.3333333333333333,\"#9c179e\"],[0.4444444444444444,\"#bd3786\"],[0.5555555555555556,\"#d8576b\"],[0.6666666666666666,\"#ed7953\"],[0.7777777777777778,\"#fb9f3a\"],[0.8888888888888888,\"#fdca26\"],[1.0,\"#f0f921\"]]}],\"heatmapgl\":[{\"type\":\"heatmapgl\",\"colorbar\":{\"outlinewidth\":0,\"ticks\":\"\"},\"colorscale\":[[0.0,\"#0d0887\"],[0.1111111111111111,\"#46039f\"],[0.2222222222222222,\"#7201a8\"],[0.3333333333333333,\"#9c179e\"],[0.4444444444444444,\"#bd3786\"],[0.5555555555555556,\"#d8576b\"],[0.6666666666666666,\"#ed7953\"],[0.7777777777777778,\"#fb9f3a\"],[0.8888888888888888,\"#fdca26\"],[1.0,\"#f0f921\"]]}],\"contourcarpet\":[{\"type\":\"contourcarpet\",\"colorbar\":{\"outlinewidth\":0,\"ticks\":\"\"}}],\"contour\":[{\"type\":\"contour\",\"colorbar\":{\"outlinewidth\":0,\"ticks\":\"\"},\"colorscale\":[[0.0,\"#0d0887\"],[0.1111111111111111,\"#46039f\"],[0.2222222222222222,\"#7201a8\"],[0.3333333333333333,\"#9c179e\"],[0.4444444444444444,\"#bd3786\"],[0.5555555555555556,\"#d8576b\"],[0.6666666666666666,\"#ed7953\"],[0.7777777777777778,\"#fb9f3a\"],[0.8888888888888888,\"#fdca26\"],[1.0,\"#f0f921\"]]}],\"surface\":[{\"type\":\"surface\",\"colorbar\":{\"outlinewidth\":0,\"ticks\":\"\"},\"colorscale\":[[0.0,\"#0d0887\"],[0.1111111111111111,\"#46039f\"],[0.2222222222222222,\"#7201a8\"],[0.3333333333333333,\"#9c179e\"],[0.4444444444444444,\"#bd3786\"],[0.5555555555555556,\"#d8576b\"],[0.6666666666666666,\"#ed7953\"],[0.7777777777777778,\"#fb9f3a\"],[0.8888888888888888,\"#fdca26\"],[1.0,\"#f0f921\"]]}],\"mesh3d\":[{\"type\":\"mesh3d\",\"colorbar\":{\"outlinewidth\":0,\"ticks\":\"\"}}],\"scatter\":[{\"fillpattern\":{\"fillmode\":\"overlay\",\"size\":10,\"solidity\":0.2},\"type\":\"scatter\"}],\"parcoords\":[{\"type\":\"parcoords\",\"line\":{\"colorbar\":{\"outlinewidth\":0,\"ticks\":\"\"}}}],\"scatterpolargl\":[{\"type\":\"scatterpolargl\",\"marker\":{\"colorbar\":{\"outlinewidth\":0,\"ticks\":\"\"}}}],\"bar\":[{\"error_x\":{\"color\":\"#2a3f5f\"},\"error_y\":{\"color\":\"#2a3f5f\"},\"marker\":{\"line\":{\"color\":\"#E5ECF6\",\"width\":0.5},\"pattern\":{\"fillmode\":\"overlay\",\"size\":10,\"solidity\":0.2}},\"type\":\"bar\"}],\"scattergeo\":[{\"type\":\"scattergeo\",\"marker\":{\"colorbar\":{\"outlinewidth\":0,\"ticks\":\"\"}}}],\"scatterpolar\":[{\"type\":\"scatterpolar\",\"marker\":{\"colorbar\":{\"outlinewidth\":0,\"ticks\":\"\"}}}],\"histogram\":[{\"marker\":{\"pattern\":{\"fillmode\":\"overlay\",\"size\":10,\"solidity\":0.2}},\"type\":\"histogram\"}],\"scattergl\":[{\"type\":\"scattergl\",\"marker\":{\"colorbar\":{\"outlinewidth\":0,\"ticks\":\"\"}}}],\"scatter3d\":[{\"type\":\"scatter3d\",\"line\":{\"colorbar\":{\"outlinewidth\":0,\"ticks\":\"\"}},\"marker\":{\"colorbar\":{\"outlinewidth\":0,\"ticks\":\"\"}}}],\"scattermapbox\":[{\"type\":\"scattermapbox\",\"marker\":{\"colorbar\":{\"outlinewidth\":0,\"ticks\":\"\"}}}],\"scatterternary\":[{\"type\":\"scatterternary\",\"marker\":{\"colorbar\":{\"outlinewidth\":0,\"ticks\":\"\"}}}],\"scattercarpet\":[{\"type\":\"scattercarpet\",\"marker\":{\"colorbar\":{\"outlinewidth\":0,\"ticks\":\"\"}}}],\"carpet\":[{\"aaxis\":{\"endlinecolor\":\"#2a3f5f\",\"gridcolor\":\"white\",\"linecolor\":\"white\",\"minorgridcolor\":\"white\",\"startlinecolor\":\"#2a3f5f\"},\"baxis\":{\"endlinecolor\":\"#2a3f5f\",\"gridcolor\":\"white\",\"linecolor\":\"white\",\"minorgridcolor\":\"white\",\"startlinecolor\":\"#2a3f5f\"},\"type\":\"carpet\"}],\"table\":[{\"cells\":{\"fill\":{\"color\":\"#EBF0F8\"},\"line\":{\"color\":\"white\"}},\"header\":{\"fill\":{\"color\":\"#C8D4E3\"},\"line\":{\"color\":\"white\"}},\"type\":\"table\"}],\"barpolar\":[{\"marker\":{\"line\":{\"color\":\"#E5ECF6\",\"width\":0.5},\"pattern\":{\"fillmode\":\"overlay\",\"size\":10,\"solidity\":0.2}},\"type\":\"barpolar\"}],\"pie\":[{\"automargin\":true,\"type\":\"pie\"}]},\"layout\":{\"autotypenumbers\":\"strict\",\"colorway\":[\"#636efa\",\"#EF553B\",\"#00cc96\",\"#ab63fa\",\"#FFA15A\",\"#19d3f3\",\"#FF6692\",\"#B6E880\",\"#FF97FF\",\"#FECB52\"],\"font\":{\"color\":\"#2a3f5f\"},\"hovermode\":\"closest\",\"hoverlabel\":{\"align\":\"left\"},\"paper_bgcolor\":\"white\",\"plot_bgcolor\":\"#E5ECF6\",\"polar\":{\"bgcolor\":\"#E5ECF6\",\"angularaxis\":{\"gridcolor\":\"white\",\"linecolor\":\"white\",\"ticks\":\"\"},\"radialaxis\":{\"gridcolor\":\"white\",\"linecolor\":\"white\",\"ticks\":\"\"}},\"ternary\":{\"bgcolor\":\"#E5ECF6\",\"aaxis\":{\"gridcolor\":\"white\",\"linecolor\":\"white\",\"ticks\":\"\"},\"baxis\":{\"gridcolor\":\"white\",\"linecolor\":\"white\",\"ticks\":\"\"},\"caxis\":{\"gridcolor\":\"white\",\"linecolor\":\"white\",\"ticks\":\"\"}},\"coloraxis\":{\"colorbar\":{\"outlinewidth\":0,\"ticks\":\"\"}},\"colorscale\":{\"sequential\":[[0.0,\"#0d0887\"],[0.1111111111111111,\"#46039f\"],[0.2222222222222222,\"#7201a8\"],[0.3333333333333333,\"#9c179e\"],[0.4444444444444444,\"#bd3786\"],[0.5555555555555556,\"#d8576b\"],[0.6666666666666666,\"#ed7953\"],[0.7777777777777778,\"#fb9f3a\"],[0.8888888888888888,\"#fdca26\"],[1.0,\"#f0f921\"]],\"sequentialminus\":[[0.0,\"#0d0887\"],[0.1111111111111111,\"#46039f\"],[0.2222222222222222,\"#7201a8\"],[0.3333333333333333,\"#9c179e\"],[0.4444444444444444,\"#bd3786\"],[0.5555555555555556,\"#d8576b\"],[0.6666666666666666,\"#ed7953\"],[0.7777777777777778,\"#fb9f3a\"],[0.8888888888888888,\"#fdca26\"],[1.0,\"#f0f921\"]],\"diverging\":[[0,\"#8e0152\"],[0.1,\"#c51b7d\"],[0.2,\"#de77ae\"],[0.3,\"#f1b6da\"],[0.4,\"#fde0ef\"],[0.5,\"#f7f7f7\"],[0.6,\"#e6f5d0\"],[0.7,\"#b8e186\"],[0.8,\"#7fbc41\"],[0.9,\"#4d9221\"],[1,\"#276419\"]]},\"xaxis\":{\"gridcolor\":\"white\",\"linecolor\":\"white\",\"ticks\":\"\",\"title\":{\"standoff\":15},\"zerolinecolor\":\"white\",\"automargin\":true,\"zerolinewidth\":2},\"yaxis\":{\"gridcolor\":\"white\",\"linecolor\":\"white\",\"ticks\":\"\",\"title\":{\"standoff\":15},\"zerolinecolor\":\"white\",\"automargin\":true,\"zerolinewidth\":2},\"scene\":{\"xaxis\":{\"backgroundcolor\":\"#E5ECF6\",\"gridcolor\":\"white\",\"linecolor\":\"white\",\"showbackground\":true,\"ticks\":\"\",\"zerolinecolor\":\"white\",\"gridwidth\":2},\"yaxis\":{\"backgroundcolor\":\"#E5ECF6\",\"gridcolor\":\"white\",\"linecolor\":\"white\",\"showbackground\":true,\"ticks\":\"\",\"zerolinecolor\":\"white\",\"gridwidth\":2},\"zaxis\":{\"backgroundcolor\":\"#E5ECF6\",\"gridcolor\":\"white\",\"linecolor\":\"white\",\"showbackground\":true,\"ticks\":\"\",\"zerolinecolor\":\"white\",\"gridwidth\":2}},\"shapedefaults\":{\"line\":{\"color\":\"#2a3f5f\"}},\"annotationdefaults\":{\"arrowcolor\":\"#2a3f5f\",\"arrowhead\":0,\"arrowwidth\":1},\"geo\":{\"bgcolor\":\"white\",\"landcolor\":\"#E5ECF6\",\"subunitcolor\":\"white\",\"showland\":true,\"showlakes\":true,\"lakecolor\":\"white\"},\"title\":{\"x\":0.05},\"mapbox\":{\"style\":\"light\"}}},\"xaxis\":{\"anchor\":\"y\",\"domain\":[0.0,1.0],\"title\":{\"text\":\"\\u898f\\u6a21\"}},\"yaxis\":{\"anchor\":\"x\",\"domain\":[0.0,1.0],\"title\":{\"text\":\"\\u5730\\u9707\\u6642\\u9593\"}},\"legend\":{\"title\":{\"text\":\"\\u7de8\\u865f\"},\"tracegroupgap\":0,\"itemsizing\":\"constant\"},\"margin\":{\"t\":60}},                        {\"responsive\": true}                    ).then(function(){\n",
       "                            \n",
       "var gd = document.getElementById('4d06981a-d066-4c1c-8e37-6509dc83e036');\n",
       "var x = new MutationObserver(function (mutations, observer) {{\n",
       "        var display = window.getComputedStyle(gd).display;\n",
       "        if (!display || display === 'none') {{\n",
       "            console.log([gd, 'removed!']);\n",
       "            Plotly.purge(gd);\n",
       "            observer.disconnect();\n",
       "        }}\n",
       "}});\n",
       "\n",
       "// Listen for the removal of the full notebook cells\n",
       "var notebookContainer = gd.closest('#notebook-container');\n",
       "if (notebookContainer) {{\n",
       "    x.observe(notebookContainer, {childList: true});\n",
       "}}\n",
       "\n",
       "// Listen for the clearing of the current output cell\n",
       "var outputEl = gd.closest('.output');\n",
       "if (outputEl) {{\n",
       "    x.observe(outputEl, {childList: true});\n",
       "}}\n",
       "\n",
       "                        })                };                });            </script>        </div>"
      ]
     },
     "metadata": {},
     "output_type": "display_data"
    }
   ],
   "source": [
    "import pandas as pd\n",
    "#資料源自中央氣象局地震測報中心，載取2023年2月份資料\n",
    "eq02 = pd.read_csv(\"eq202302.csv\", encoding='big5')\n",
    "\n",
    "import plotly.express as px\n",
    "fig = px.scatter(eq02, x=\"規模\", y=\"地震時間\", color=\"編號\", hover_name=\"位置\", size=\"深度\", size_max=40)\n",
    "fig.show()"
   ]
  },
  {
   "cell_type": "code",
   "execution_count": 12,
   "id": "ff7adf67",
   "metadata": {},
   "outputs": [
    {
     "data": {
      "text/html": [
       "<div>\n",
       "<style scoped>\n",
       "    .dataframe tbody tr th:only-of-type {\n",
       "        vertical-align: middle;\n",
       "    }\n",
       "\n",
       "    .dataframe tbody tr th {\n",
       "        vertical-align: top;\n",
       "    }\n",
       "\n",
       "    .dataframe thead th {\n",
       "        text-align: right;\n",
       "    }\n",
       "</style>\n",
       "<table border=\"1\" class=\"dataframe\">\n",
       "  <thead>\n",
       "    <tr style=\"text-align: right;\">\n",
       "      <th></th>\n",
       "      <th>編號</th>\n",
       "      <th>地震時間</th>\n",
       "      <th>經度</th>\n",
       "      <th>緯度</th>\n",
       "      <th>規模</th>\n",
       "      <th>深度</th>\n",
       "      <th>位置</th>\n",
       "    </tr>\n",
       "  </thead>\n",
       "  <tbody>\n",
       "    <tr>\n",
       "      <th>6</th>\n",
       "      <td>小區域有感地震</td>\n",
       "      <td>2023/2/22 01:00</td>\n",
       "      <td>123.36</td>\n",
       "      <td>24.9502</td>\n",
       "      <td>5.4</td>\n",
       "      <td>140.5</td>\n",
       "      <td>宜蘭縣政府東方  163.2  公里 (位於臺灣東部海域)(臺灣東部海域)</td>\n",
       "    </tr>\n",
       "  </tbody>\n",
       "</table>\n",
       "</div>"
      ],
      "text/plain": [
       "        編號             地震時間      經度       緯度   規模     深度  \\\n",
       "6  小區域有感地震  2023/2/22 01:00  123.36  24.9502  5.4  140.5   \n",
       "\n",
       "                                      位置  \n",
       "6  宜蘭縣政府東方  163.2  公里 (位於臺灣東部海域)(臺灣東部海域)  "
      ]
     },
     "execution_count": 12,
     "metadata": {},
     "output_type": "execute_result"
    }
   ],
   "source": [
    "#問題：找出2023年2月份規模大於5的資料中深度最深的地震\n",
    "\n",
    "scale = eq02[eq02['規模'] > 5]\n",
    "\n",
    "#按深度排序，以降冪排列，找出第一筆資料\n",
    "scale.sort_values(by=['深度'], ascending=False).head(1)"
   ]
  },
  {
   "cell_type": "code",
   "execution_count": 13,
   "id": "17029a4f",
   "metadata": {},
   "outputs": [
    {
     "data": {
      "text/html": [
       "<div>\n",
       "<style scoped>\n",
       "    .dataframe tbody tr th:only-of-type {\n",
       "        vertical-align: middle;\n",
       "    }\n",
       "\n",
       "    .dataframe tbody tr th {\n",
       "        vertical-align: top;\n",
       "    }\n",
       "\n",
       "    .dataframe thead th {\n",
       "        text-align: right;\n",
       "    }\n",
       "</style>\n",
       "<table border=\"1\" class=\"dataframe\">\n",
       "  <thead>\n",
       "    <tr style=\"text-align: right;\">\n",
       "      <th></th>\n",
       "      <th>編號</th>\n",
       "      <th>地震時間</th>\n",
       "      <th>經度</th>\n",
       "      <th>緯度</th>\n",
       "      <th>規模</th>\n",
       "      <th>深度</th>\n",
       "      <th>位置</th>\n",
       "    </tr>\n",
       "  </thead>\n",
       "  <tbody>\n",
       "    <tr>\n",
       "      <th>32</th>\n",
       "      <td>7</td>\n",
       "      <td>2023/2/8 05:48</td>\n",
       "      <td>121.83</td>\n",
       "      <td>24.7468</td>\n",
       "      <td>4.5</td>\n",
       "      <td>79.1</td>\n",
       "      <td>宜蘭縣政府東北東方  7.0  公里 (位於宜蘭縣近海)(宜蘭縣近海)</td>\n",
       "    </tr>\n",
       "  </tbody>\n",
       "</table>\n",
       "</div>"
      ],
      "text/plain": [
       "   編號            地震時間      經度       緯度   規模    深度  \\\n",
       "32  7  2023/2/8 05:48  121.83  24.7468  4.5  79.1   \n",
       "\n",
       "                                     位置  \n",
       "32  宜蘭縣政府東北東方  7.0  公里 (位於宜蘭縣近海)(宜蘭縣近海)  "
      ]
     },
     "execution_count": 13,
     "metadata": {},
     "output_type": "execute_result"
    }
   ],
   "source": [
    "#問題：從編號為數字紀錄的地震中找出規模最小的一個，推論編號為數字的地震規模偏大\n",
    "\n",
    "#篩選編號欄位字串是否為數字，存入number變數\n",
    "number = eq02[eq02['編號'].str.isnumeric()]\n",
    "\n",
    "#number變數中找出規模最小的，存入num_scale_min變數\n",
    "num_scale_min = number['規模'].min()\n",
    "\n",
    "#從number變數的規模對應num_scale_min變數相符的資料，存入num_eq(有編號的地震)\n",
    "num_eq = number[number['規模'] == num_scale_min]\n",
    "num_eq"
   ]
  },
  {
   "cell_type": "code",
   "execution_count": 14,
   "id": "e60a3744",
   "metadata": {},
   "outputs": [
    {
     "name": "stdout",
     "output_type": "stream",
     "text": [
      "地震發生最多的日期為： 2023-02-21 ，共發生了 5 次地震\n"
     ]
    }
   ],
   "source": [
    "#問題：找出2023年2月份發生最多地震的一天\n",
    "\n",
    "#轉換為Pandas的日期時間格式\n",
    "eq02_datetime = pd.to_datetime(eq02['地震時間'], format='%Y/%m/%d %H:%M')\n",
    "\n",
    "#計算每一天地震發生的次數\n",
    "count = eq02_datetime.groupby(eq02_datetime.dt.date).size()\n",
    "\n",
    "#找出地震發生次數最多的日期\n",
    "most_freq_date = count.idxmax()\n",
    "\n",
    "print('地震發生最多的日期為：', most_freq_date, '，共發生了', count[most_freq_date], '次地震')"
   ]
  },
  {
   "cell_type": "code",
   "execution_count": null,
   "id": "0b715747",
   "metadata": {},
   "outputs": [],
   "source": []
  }
 ],
 "metadata": {
  "kernelspec": {
   "display_name": "Python 3 (ipykernel)",
   "language": "python",
   "name": "python3"
  },
  "language_info": {
   "codemirror_mode": {
    "name": "ipython",
    "version": 3
   },
   "file_extension": ".py",
   "mimetype": "text/x-python",
   "name": "python",
   "nbconvert_exporter": "python",
   "pygments_lexer": "ipython3",
   "version": "3.9.13"
  }
 },
 "nbformat": 4,
 "nbformat_minor": 5
}
