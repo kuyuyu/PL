{
 "cells": [
  {
   "cell_type": "code",
   "execution_count": 1,
   "id": "b44525c0",
   "metadata": {},
   "outputs": [],
   "source": [
    "import requests\n",
    "import json\n",
    "import pandas as pd\n",
    "import time\n",
    "from time import sleep"
   ]
  },
  {
   "cell_type": "code",
   "execution_count": 2,
   "id": "808a3e54",
   "metadata": {},
   "outputs": [],
   "source": [
    "#網址:https://dict.idioms.moe.edu.tw/search.jsp?webMd=2&la=0\n",
    "#關鍵字:好\n",
    "#URL:https://dict.idioms.moe.edu.tw/idiomList.jsp?idiom=%E5%A5%BD&qMd=0&qTp=1&qTp=2"
   ]
  },
  {
   "cell_type": "code",
   "execution_count": 51,
   "id": "e2471c9e",
   "metadata": {},
   "outputs": [
    {
     "data": {
      "text/plain": [
       "'https://dict.idioms.moe.edu.tw/search.jsp?webMd=2&la=01'"
      ]
     },
     "execution_count": 51,
     "metadata": {},
     "output_type": "execute_result"
    }
   ],
   "source": [
    "page = 1\n",
    "urlfirst = \"https://dict.idioms.moe.edu.tw/search.jsp?webMd=2&la=0\"\n",
    "#urlsec = \"idiom=%E5%A5%BD&qMd=0&qTp=1&qTp=2%20\"\n",
    "link = urlfirst + str(page)\n",
    "link"
   ]
  },
  {
   "cell_type": "code",
   "execution_count": 28,
   "id": "75698bfb",
   "metadata": {},
   "outputs": [
    {
     "data": {
      "text/plain": [
       "'https://dict.idioms.moe.edu.tw/search.jsp?webMd=2&la=0idiom=%E5%A5%BD&qMd=0&qTp=1&qTp=21&page='"
      ]
     },
     "execution_count": 28,
     "metadata": {},
     "output_type": "execute_result"
    }
   ],
   "source": [
    "urlfirst = \"https://dict.idioms.moe.edu.tw/search.jsp?webMd=2&la=0idiom=%E5%A5%BD&qMd=0&qTp=1&qTp=21&page=\"\n",
    "urlfirst"
   ]
  },
  {
   "cell_type": "code",
   "execution_count": 38,
   "id": "c89a38ba",
   "metadata": {},
   "outputs": [
    {
     "data": {
      "text/plain": [
       "'https://dict.idioms.moe.edu.tw/search.jsp?webMd=2&la=01'"
      ]
     },
     "execution_count": 38,
     "metadata": {},
     "output_type": "execute_result"
    }
   ],
   "source": [
    "#&page=1\n",
    "#page = \"1\"\n",
    "#link = urlfirst+page\n",
    "#link"
   ]
  },
  {
   "cell_type": "code",
   "execution_count": 52,
   "id": "dc96c29d",
   "metadata": {},
   "outputs": [],
   "source": [
    "res = requests.get(link)"
   ]
  },
  {
   "cell_type": "code",
   "execution_count": 53,
   "id": "d7f6ce0d",
   "metadata": {},
   "outputs": [
    {
     "data": {
      "text/plain": [
       "<Response [200]>"
      ]
     },
     "execution_count": 53,
     "metadata": {},
     "output_type": "execute_result"
    }
   ],
   "source": [
    "res\n",
    "#2xx表示成功\n",
    "#3xx表示需要驗證才能得權限\n",
    "#4xx表示使用者端錯誤\n",
    "#5xx表示伺服器端錯誤"
   ]
  },
  {
   "cell_type": "code",
   "execution_count": 54,
   "id": "1f35b8d6",
   "metadata": {},
   "outputs": [
    {
     "data": {
      "text/plain": [
       "''"
      ]
     },
     "execution_count": 54,
     "metadata": {},
     "output_type": "execute_result"
    }
   ],
   "source": [
    "res.text"
   ]
  },
  {
   "cell_type": "code",
   "execution_count": 47,
   "id": "685720e8",
   "metadata": {},
   "outputs": [],
   "source": [
    "#data = json.loads(res.text)\n",
    "#data"
   ]
  },
  {
   "cell_type": "code",
   "execution_count": null,
   "id": "22bf1e5a",
   "metadata": {},
   "outputs": [],
   "source": []
  }
 ],
 "metadata": {
  "kernelspec": {
   "display_name": "Python 3 (ipykernel)",
   "language": "python",
   "name": "python3"
  },
  "language_info": {
   "codemirror_mode": {
    "name": "ipython",
    "version": 3
   },
   "file_extension": ".py",
   "mimetype": "text/x-python",
   "name": "python",
   "nbconvert_exporter": "python",
   "pygments_lexer": "ipython3",
   "version": "3.9.13"
  }
 },
 "nbformat": 4,
 "nbformat_minor": 5
}
