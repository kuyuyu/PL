{
 "cells": [
  {
   "cell_type": "code",
   "execution_count": null,
   "id": "f8a6cf0c",
   "metadata": {},
   "outputs": [],
   "source": [
    "data = pd.read_csv('lyrics.csv')\n",
    "data.head()"
   ]
  },
  {
   "cell_type": "code",
   "execution_count": null,
   "id": "8ca65bf6",
   "metadata": {},
   "outputs": [],
   "source": [
    "#sub_data = data[['songs', 'seg', 'lyricist']] #創建了一個新DataFrame，但因為欄數不多所以可以不用\n",
    "\n",
    "#重置索引，獲得一個包含了lyricist和合併後的seg值的新Series，其中seg值以逗號隔開\n",
    "output_series = data.groupby(['lyricist'])['seg'].apply(lambda x: ','.join(x)).reset_index()\n",
    "output_series"
   ]
  },
  {
   "cell_type": "code",
   "execution_count": null,
   "id": "f25de4d2",
   "metadata": {},
   "outputs": [],
   "source": [
    "output_series['seg'] = output_series['seg'].str.replace(\"', '\", \" \") #將','轉換成空格\n",
    "output_series"
   ]
  },
  {
   "cell_type": "code",
   "execution_count": null,
   "id": "27928eed",
   "metadata": {},
   "outputs": [],
   "source": [
    "from sklearn.feature_extraction.text import CountVectorizer #一個用於文本特徵提取的類別，將文本轉換為詞頻向量或者二進制向量表示\n",
    "\n",
    "docs = output_series['seg'].tolist() #轉換為Python列表\n",
    "vec = CountVectorizer()\n",
    "X = vec.fit_transform(docs) #轉換成詞頻矩陣\n",
    "#X.toarray()將詞頻矩陣轉換為二維數組\n",
    "#vec.get_feature_names()獲取詞彙表中的特徵名稱，然後使用這些特徵名稱作為列名創建DataFrame\n",
    "df = pd.DataFrame(X.toarray(), columns=vec.get_feature_names())\n",
    "df"
   ]
  },
  {
   "cell_type": "code",
   "execution_count": null,
   "id": "da4bc9c5",
   "metadata": {},
   "outputs": [],
   "source": [
    "#df.T是df的轉置，將df的行和列交換以便矩陣乘法操作\n",
    "#dot()是DataFrame對象的方法，用於執行矩陣乘法。將df.T和df進行矩陣乘法運算，得到的結果是一個新的DataFrame，表示詞頻矩陣的內積\n",
    "#coocc是內積結果，代表了詞彙之間的共現性。是一個方形矩陣，每個元素表示對應詞彙在資料中的共現次數\n",
    "coocc = df.T.dot(df)\n",
    "coocc"
   ]
  },
  {
   "cell_type": "code",
   "execution_count": null,
   "id": "9ff86c90",
   "metadata": {},
   "outputs": [],
   "source": [
    "import plotly.express as px\n",
    "\n",
    "fig = px.imshow(coocc)\n",
    "fig.layout.height = 1000\n",
    "fig.layout.width = 1000\n",
    "fig.show()"
   ]
  },
  {
   "cell_type": "code",
   "execution_count": null,
   "id": "d510acda",
   "metadata": {},
   "outputs": [],
   "source": [
    "result = coocc.values.flatten() #將詞彙共現矩陣轉換為一個包含所有共現頻次的一維數組\n",
    "len(result)"
   ]
  },
  {
   "cell_type": "code",
   "execution_count": null,
   "id": "d6147c61",
   "metadata": {},
   "outputs": [],
   "source": [
    "df_describe = pd.DataFrame(result) #獲得數據的描述性統計信息，提供對數據分布的整體了解，幫助理解數據的集中趨勢、變異程度和分布形狀\n",
    "df_describe.describe()"
   ]
  },
  {
   "cell_type": "code",
   "execution_count": null,
   "id": "8d58a623",
   "metadata": {},
   "outputs": [],
   "source": [
    "px.histogram(df) #繪製直方圖，x軸表示數值範圍，y軸表示頻次或數量"
   ]
  },
  {
   "cell_type": "code",
   "execution_count": null,
   "id": "1c0fa4a7",
   "metadata": {},
   "outputs": [],
   "source": [
    "import numpy as np\n",
    "\n",
    "filter_num_up = 8 #表示篩選的上下閾值\n",
    "filter_num_down = 10\n",
    "getid = coocc.index\n",
    "important = pd.DataFrame(columns = getid).T #創建一個空的DataFrame(important)，索引為getid（即coocc的索引）\n",
    "important['relation'] = '' #新增一欄\n",
    "dropid = [] #空列表dropid用於存要刪除的索引\n",
    "\n",
    "for i in range(len(coocc)):\n",
    "    result = coocc[(coocc.iloc[i] > filter_num_up) & (coocc.iloc[i] < filter_num_down)].index.tolist()\n",
    "    if(len(result) > 0):\n",
    "        important['relation'].loc[getid[i]] = coocc[(coocc.iloc[i] > filter_num_up) & (coocc.iloc[i] < filter_num_down)].index.tolist()\n",
    "        print(important['relation'].loc[getid[i]])\n",
    "    else:\n",
    "        dropid.append(i)\n",
    "        important = important.drop([getid[i]])"
   ]
  },
  {
   "cell_type": "code",
   "execution_count": null,
   "id": "45ef2116",
   "metadata": {},
   "outputs": [],
   "source": [
    "important"
   ]
  },
  {
   "cell_type": "code",
   "execution_count": null,
   "id": "052e631c",
   "metadata": {},
   "outputs": [],
   "source": [
    "np.asarray(getid[dropid]) #將getid中索引為dropid的元素轉換為NumPy數組"
   ]
  },
  {
   "cell_type": "code",
   "execution_count": null,
   "id": "3bf64b31",
   "metadata": {},
   "outputs": [],
   "source": [
    "subcoocc = coocc.drop(np.asarray(getid[dropid])) #刪除在getid[dropid]中對應的索引位置的行和列後得到新的DataFrame\n",
    "subcoocc"
   ]
  },
  {
   "cell_type": "code",
   "execution_count": null,
   "id": "c05ad4ed",
   "metadata": {},
   "outputs": [],
   "source": [
    "#subcoocc.columns返回了subcoocc DataFrame的所有列索引，subcoocc.columns[dropid]取得要刪除的列的索引位置\n",
    "#axis=1是指定要按列進行刪除\n",
    "#inplace=True表示在原地進行修改，即直接修改subcoocc DataFrame而不返回新的DataFrame\n",
    "subcoocc.drop(subcoocc.columns[dropid], axis=1, inplace=True)\n",
    "subcoocc"
   ]
  },
  {
   "cell_type": "code",
   "execution_count": null,
   "id": "894ba04d",
   "metadata": {},
   "outputs": [],
   "source": [
    "from IPython.core.display import HTML #導入用於在Jupyter Notebook中顯示HTML內容的庫\n",
    "\n",
    "sta = subcoocc.describe()\n",
    "display(HTML(sta.to_html())) #to_html()方法將sta DataFrame轉換為HTML格式的字符串，然後display顯示"
   ]
  },
  {
   "cell_type": "code",
   "execution_count": null,
   "id": "335a1ecd",
   "metadata": {},
   "outputs": [],
   "source": [
    "fig = px.imshow(subcoocc)\n",
    "fig.layout.height = 900\n",
    "fig.layout.width = 900\n",
    "fig.update_traces(zmin=0, zmax=10) #設定顏色變化的數字範圍\n",
    "fig.show()"
   ]
  },
  {
   "cell_type": "code",
   "execution_count": null,
   "id": "6f7197c7",
   "metadata": {},
   "outputs": [],
   "source": [
    "display(HTML(important.to_html()))"
   ]
  },
  {
   "cell_type": "code",
   "execution_count": null,
   "id": "d206d102",
   "metadata": {},
   "outputs": [],
   "source": [
    "px.histogram(coocc)"
   ]
  }
 ],
 "metadata": {
  "kernelspec": {
   "display_name": "Python 3 (ipykernel)",
   "language": "python",
   "name": "python3"
  },
  "language_info": {
   "codemirror_mode": {
    "name": "ipython",
    "version": 3
   },
   "file_extension": ".py",
   "mimetype": "text/x-python",
   "name": "python",
   "nbconvert_exporter": "python",
   "pygments_lexer": "ipython3",
   "version": "3.9.13"
  }
 },
 "nbformat": 4,
 "nbformat_minor": 5
}
