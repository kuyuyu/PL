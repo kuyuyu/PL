{
 "cells": [
  {
   "cell_type": "code",
   "execution_count": 4,
   "id": "95800464",
   "metadata": {},
   "outputs": [],
   "source": [
    "import pandas as pd\n",
    "import jieba\n",
    "import jieba.analyse\n",
    "from collections import Counter"
   ]
  },
  {
   "cell_type": "code",
   "execution_count": 5,
   "id": "6f260e91",
   "metadata": {},
   "outputs": [
    {
     "data": {
      "text/html": [
       "<div>\n",
       "<style scoped>\n",
       "    .dataframe tbody tr th:only-of-type {\n",
       "        vertical-align: middle;\n",
       "    }\n",
       "\n",
       "    .dataframe tbody tr th {\n",
       "        vertical-align: top;\n",
       "    }\n",
       "\n",
       "    .dataframe thead th {\n",
       "        text-align: right;\n",
       "    }\n",
       "</style>\n",
       "<table border=\"1\" class=\"dataframe\">\n",
       "  <thead>\n",
       "    <tr style=\"text-align: right;\">\n",
       "      <th></th>\n",
       "      <th>songs</th>\n",
       "    </tr>\n",
       "  </thead>\n",
       "  <tbody>\n",
       "    <tr>\n",
       "      <th>0</th>\n",
       "      <td>行星</td>\n",
       "    </tr>\n",
       "    <tr>\n",
       "      <th>1</th>\n",
       "      <td>作詞：邱建豪作曲：邱建豪、郭哲成編曲：理想混蛋主唱：邱建豪沒有行李 沒有目的一個人旅行在無邊...</td>\n",
       "    </tr>\n",
       "    <tr>\n",
       "      <th>2</th>\n",
       "      <td>不是因為天氣晴朗才愛你</td>\n",
       "    </tr>\n",
       "    <tr>\n",
       "      <th>3</th>\n",
       "      <td>演唱：邱建豪作詞：邱建豪作曲：邱建豪編曲：理想混蛋不是因為天氣晴朗才愛你不是因為看見星星才想...</td>\n",
       "    </tr>\n",
       "    <tr>\n",
       "      <th>4</th>\n",
       "      <td>獨角仙的夢 (Kabutomushi's Dream)</td>\n",
       "    </tr>\n",
       "  </tbody>\n",
       "</table>\n",
       "</div>"
      ],
      "text/plain": [
       "                                               songs\n",
       "0                                                 行星\n",
       "1  作詞：邱建豪作曲：邱建豪、郭哲成編曲：理想混蛋主唱：邱建豪沒有行李 沒有目的一個人旅行在無邊...\n",
       "2                                        不是因為天氣晴朗才愛你\n",
       "3  演唱：邱建豪作詞：邱建豪作曲：邱建豪編曲：理想混蛋不是因為天氣晴朗才愛你不是因為看見星星才想...\n",
       "4                        獨角仙的夢 (Kabutomushi's Dream)"
      ]
     },
     "execution_count": 5,
     "metadata": {},
     "output_type": "execute_result"
    }
   ],
   "source": [
    "#延伸作業四爬好的資料\n",
    "bestard = pd.read_csv('data.csv')\n",
    "bestard.head()"
   ]
  },
  {
   "cell_type": "code",
   "execution_count": 6,
   "id": "fed8bed7",
   "metadata": {},
   "outputs": [
    {
     "data": {
      "text/html": [
       "<div>\n",
       "<style scoped>\n",
       "    .dataframe tbody tr th:only-of-type {\n",
       "        vertical-align: middle;\n",
       "    }\n",
       "\n",
       "    .dataframe tbody tr th {\n",
       "        vertical-align: top;\n",
       "    }\n",
       "\n",
       "    .dataframe thead th {\n",
       "        text-align: right;\n",
       "    }\n",
       "</style>\n",
       "<table border=\"1\" class=\"dataframe\">\n",
       "  <thead>\n",
       "    <tr style=\"text-align: right;\">\n",
       "      <th></th>\n",
       "      <th>songs</th>\n",
       "      <th>seg</th>\n",
       "    </tr>\n",
       "  </thead>\n",
       "  <tbody>\n",
       "    <tr>\n",
       "      <th>0</th>\n",
       "      <td>行星</td>\n",
       "      <td></td>\n",
       "    </tr>\n",
       "    <tr>\n",
       "      <th>1</th>\n",
       "      <td>作詞：邱建豪作曲：邱建豪、郭哲成編曲：理想混蛋主唱：邱建豪沒有行李 沒有目的一個人旅行在無邊...</td>\n",
       "      <td></td>\n",
       "    </tr>\n",
       "    <tr>\n",
       "      <th>2</th>\n",
       "      <td>不是因為天氣晴朗才愛你</td>\n",
       "      <td></td>\n",
       "    </tr>\n",
       "    <tr>\n",
       "      <th>3</th>\n",
       "      <td>演唱：邱建豪作詞：邱建豪作曲：邱建豪編曲：理想混蛋不是因為天氣晴朗才愛你不是因為看見星星才想...</td>\n",
       "      <td></td>\n",
       "    </tr>\n",
       "    <tr>\n",
       "      <th>4</th>\n",
       "      <td>獨角仙的夢 (Kabutomushi's Dream)</td>\n",
       "      <td></td>\n",
       "    </tr>\n",
       "  </tbody>\n",
       "</table>\n",
       "</div>"
      ],
      "text/plain": [
       "                                               songs seg\n",
       "0                                                 行星    \n",
       "1  作詞：邱建豪作曲：邱建豪、郭哲成編曲：理想混蛋主唱：邱建豪沒有行李 沒有目的一個人旅行在無邊...    \n",
       "2                                        不是因為天氣晴朗才愛你    \n",
       "3  演唱：邱建豪作詞：邱建豪作曲：邱建豪編曲：理想混蛋不是因為天氣晴朗才愛你不是因為看見星星才想...    \n",
       "4                        獨角仙的夢 (Kabutomushi's Dream)    "
      ]
     },
     "execution_count": 6,
     "metadata": {},
     "output_type": "execute_result"
    }
   ],
   "source": [
    "bestard['seg'] = ''\n",
    "bestard.head()"
   ]
  },
  {
   "cell_type": "code",
   "execution_count": 14,
   "id": "37a3fca0",
   "metadata": {},
   "outputs": [],
   "source": [
    "jieba.analyse.set_stop_words('stopwords.txt')\n",
    "index = 0\n",
    "for documents in bestard['songs'].astype(str):\n",
    "    seg_list = jieba.analyse.extract_tags(documents, 150)\n",
    "    #seg_list = jieba.lcut(documents) #不需要自訂停用詞檔，所以沒有忽略贅字的功能\n",
    "    bestard['seg'].iloc[index] = seg_list\n",
    "    index += 1"
   ]
  },
  {
   "cell_type": "code",
   "execution_count": 15,
   "id": "1a322b28",
   "metadata": {},
   "outputs": [
    {
     "data": {
      "text/plain": [
       "0                                                  [行星]\n",
       "1     [一個, 遺忘, 發著光, 這樣, 安靜, 地被, 沒有, 一圈, 一如, 往常, 獨自盤,...\n",
       "2                                      [因為, 天氣, 晴朗, 不是]\n",
       "3     [因為, 天氣, 牽著, 走過, 盛開, 一樣, 喜歡, 不是, 水花, 一直, 大雨, 路...\n",
       "4                              [獨角, Kabutomushi, Dream]\n",
       "                            ...                        \n",
       "73    [爆炸, 地球, 什麼, 我們, 還有, 時間, 實現, 再來, 一場, 華麗, 冒險, 瘋...\n",
       "74                                                   []\n",
       "75    [每個, 永遠屬, 你屬, 天氣, 我會, 每次, 靠近, 電影, 林孝謙, 遇見, 隨太陽...\n",
       "76                                        [Easy, Peasy]\n",
       "77    [Easy, peasy, lemon, squeezy, 姿勢, 帥氣, 狼狽, 十之, ...\n",
       "Name: seg, Length: 78, dtype: object"
      ]
     },
     "execution_count": 15,
     "metadata": {},
     "output_type": "execute_result"
    }
   ],
   "source": [
    "bestard['seg']"
   ]
  },
  {
   "cell_type": "code",
   "execution_count": 16,
   "id": "4cbb7297",
   "metadata": {},
   "outputs": [],
   "source": [
    "bestard.to_csv(\"words.csv\", index=False)"
   ]
  },
  {
   "cell_type": "code",
   "execution_count": 22,
   "id": "7d1b7410",
   "metadata": {},
   "outputs": [],
   "source": [
    "songs_split = bestard['songs'].iloc[1].split('：')"
   ]
  },
  {
   "cell_type": "code",
   "execution_count": 23,
   "id": "dfa42010",
   "metadata": {},
   "outputs": [
    {
     "data": {
      "text/plain": [
       "'邱建豪作曲'"
      ]
     },
     "execution_count": 23,
     "metadata": {},
     "output_type": "execute_result"
    }
   ],
   "source": [
    "songs_split[1]"
   ]
  },
  {
   "cell_type": "code",
   "execution_count": 24,
   "id": "56c6e843",
   "metadata": {},
   "outputs": [],
   "source": [
    "#用re改善 #只留奇數行\n"
   ]
  },
  {
   "cell_type": "code",
   "execution_count": null,
   "id": "8515335a",
   "metadata": {},
   "outputs": [],
   "source": []
  }
 ],
 "metadata": {
  "kernelspec": {
   "display_name": "Python 3 (ipykernel)",
   "language": "python",
   "name": "python3"
  },
  "language_info": {
   "codemirror_mode": {
    "name": "ipython",
    "version": 3
   },
   "file_extension": ".py",
   "mimetype": "text/x-python",
   "name": "python",
   "nbconvert_exporter": "python",
   "pygments_lexer": "ipython3",
   "version": "3.9.13"
  }
 },
 "nbformat": 4,
 "nbformat_minor": 5
}
