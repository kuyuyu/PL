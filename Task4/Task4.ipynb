{
 "cells": [
  {
   "cell_type": "code",
   "execution_count": 14,
   "id": "6815a776",
   "metadata": {
    "scrolled": false
   },
   "outputs": [
    {
     "name": "stdout",
     "output_type": "stream",
     "text": [
      "專輯名稱年份歌曲列表　　\n",
      "Easy Peasy國語\n",
      "2022-101.Easy Peasy\n",
      "零距離國語\n",
      "2022-062.零距離-理想混蛋\n",
      "屬於你國語\n",
      "2022-061.屬於你\n",
      "關掉／打開國語\n",
      "2022-041.白晝將盡\n",
      "2.Reset\n",
      "3.門\n",
      "4.絕對值\n",
      "5.我反芻著你留下的寂寞6.今天星期六\n",
      "7.我就想你\n",
      "8.好方法\n",
      "9.一定會的\n",
      "10.在地球爆炸之前\n",
      "我反芻著你留下的寂寞國語\n",
      "2021-121.我反芻著你留下的寂寞\n",
      "Reset國語\n",
      "2021-101.Reset\n",
      "我就想你國語\n",
      "2021-091.我就想你\n",
      "太陽雨國語\n",
      "2021-061.太陽雨\n",
      "我要用黑魔法把你變成一隻魚國語\n",
      "2021-011.我要用黑魔法把你變成一隻魚\n",
      "再一次就好國語\n",
      "2020-101.再一次就好\n",
      "愚者國語\n",
      "2020-051.撲火的蝶\n",
      "2.愚者\n",
      "3.行星(Galaxy Ver.)\n",
      "4.騎士墜鬼馬\n",
      "5.你討厭也沒關係\n",
      "6.不能寂寞的人7.我是你的Bling Bling\n",
      "8.絕地花園\n",
      "9.寂寞的大孩子\n",
      "10.再說\n",
      "11.我還沒有作好被打倒的準備\n",
      "絕地花園國語\n",
      "2020-051.絕地花園\n",
      "天真世界的叛徒國語\n",
      "2020-041.天真世界的叛徒－天真版2.天真世界的叛徒－叛徒版\n",
      "滯留鋒國語\n",
      "2020-031.滯留鋒\n",
      "Dear Star國語\n",
      "2019-091.Dear Star\n",
      "平衡木國語\n",
      "2019-051.平衡木\n",
      "夏夜煙火國語\n",
      "2018-121.夏夜煙火\n",
      "獨角仙的夢國語\n",
      "2018-081.獨角仙的夢 (Kabutomushi's Dream)\n",
      "不是因為天氣晴朗才愛你國語\n",
      "2018-051.不是因為天氣晴朗才愛你\n",
      "行星國語\n",
      "2018-041.行星\n",
      "暫存國語\n",
      "1.煙花\n",
      "\n"
     ]
    }
   ],
   "source": [
    "with open(\"Bestards.txt\", encoding='utf8') as B:\n",
    "    album = B.read()\n",
    "    print(album)\n",
    "#python允許使用\"和'表示字符串，所以這裡打\"utf-8\"也可以\n",
    "#python解釋器會自動將utf8解釋為utf-8，但打utf-8更好\n",
    "#with的優點是文件使用完畢後python會自動關閉文件"
   ]
  },
  {
   "cell_type": "code",
   "execution_count": 15,
   "id": "dcaa44c2",
   "metadata": {},
   "outputs": [],
   "source": [
    "import re #匯入 regular exoression 資料正則化"
   ]
  },
  {
   "cell_type": "code",
   "execution_count": 16,
   "id": "fbf3689a",
   "metadata": {},
   "outputs": [
    {
     "data": {
      "text/plain": [
       "['2022-10',\n",
       " '2022-06',\n",
       " '2022-06',\n",
       " '2022-04',\n",
       " '2021-12',\n",
       " '2021-10',\n",
       " '2021-09',\n",
       " '2021-06',\n",
       " '2021-01',\n",
       " '2020-10',\n",
       " '2020-05',\n",
       " '2020-05',\n",
       " '2020-04',\n",
       " '2020-03',\n",
       " '2019-09',\n",
       " '2019-05',\n",
       " '2018-12',\n",
       " '2018-08',\n",
       " '2018-05',\n",
       " '2018-04']"
      ]
     },
     "execution_count": 16,
     "metadata": {},
     "output_type": "execute_result"
    }
   ],
   "source": [
    "#使用findall找出所有發行的年份與月份\n",
    "#找到符合xxxx-xx此種格式的數字\n",
    "era = re.findall(r\"\\d{4}-\\d{2}\", album)\n",
    "era"
   ]
  },
  {
   "cell_type": "code",
   "execution_count": 17,
   "id": "c01ee86b",
   "metadata": {},
   "outputs": [
    {
     "name": "stdout",
     "output_type": "stream",
     "text": [
      "理想混蛋截至2023.04.11所有發行的歌曲數共 38 首\n"
     ]
    },
    {
     "data": {
      "text/plain": [
       "['1.Easy Peasy',\n",
       " '2.零距離-理想混蛋',\n",
       " '1.屬於你',\n",
       " '1.白晝將盡',\n",
       " '2.Reset',\n",
       " '3.門',\n",
       " '4.絕對值',\n",
       " '5.我反芻著你留下的寂寞6.今天星期六',\n",
       " '7.我就想你',\n",
       " '8.好方法',\n",
       " '9.一定會的',\n",
       " '0.在地球爆炸之前',\n",
       " '1.我反芻著你留下的寂寞',\n",
       " '1.Reset',\n",
       " '1.我就想你',\n",
       " '1.太陽雨',\n",
       " '1.我要用黑魔法把你變成一隻魚',\n",
       " '1.再一次就好',\n",
       " '1.撲火的蝶',\n",
       " '2.愚者',\n",
       " '3.行星(Galaxy Ver.)',\n",
       " '4.騎士墜鬼馬',\n",
       " '5.你討厭也沒關係',\n",
       " '6.不能寂寞的人7.我是你的Bling Bling',\n",
       " '8.絕地花園',\n",
       " '9.寂寞的大孩子',\n",
       " '0.再說',\n",
       " '1.我還沒有作好被打倒的準備',\n",
       " '1.絕地花園',\n",
       " '1.天真世界的叛徒－天真版2.天真世界的叛徒－叛徒版',\n",
       " '1.滯留鋒',\n",
       " '1.Dear Star',\n",
       " '1.平衡木',\n",
       " '1.夏夜煙火',\n",
       " \"1.獨角仙的夢 (Kabutomushi's Dream)\",\n",
       " '1.不是因為天氣晴朗才愛你',\n",
       " '1.行星',\n",
       " '1.煙花']"
      ]
     },
     "execution_count": 17,
     "metadata": {},
     "output_type": "execute_result"
    }
   ],
   "source": [
    "#找出已發行的所有專輯歌曲、EP和單曲\n",
    "#找出符合 x.歌名 此種格式的資料，.代表任何字符（包括空格），直到遇到行尾\n",
    "song = re.findall(r'\\d\\..+', album)\n",
    "total = len(song)\n",
    "print(\"理想混蛋截至2023.04.11所有發行的歌曲數共\" ,total, \"首\")\n",
    "song"
   ]
  },
  {
   "cell_type": "code",
   "execution_count": null,
   "id": "3b970b9e",
   "metadata": {},
   "outputs": [],
   "source": []
  }
 ],
 "metadata": {
  "kernelspec": {
   "display_name": "Python 3 (ipykernel)",
   "language": "python",
   "name": "python3"
  },
  "language_info": {
   "codemirror_mode": {
    "name": "ipython",
    "version": 3
   },
   "file_extension": ".py",
   "mimetype": "text/x-python",
   "name": "python",
   "nbconvert_exporter": "python",
   "pygments_lexer": "ipython3",
   "version": "3.9.13"
  }
 },
 "nbformat": 4,
 "nbformat_minor": 5
}
