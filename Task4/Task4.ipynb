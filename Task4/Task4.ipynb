{
 "cells": [
  {
   "cell_type": "code",
   "execution_count": null,
   "id": "3edbc040",
   "metadata": {},
   "outputs": [],
   "source": [
    "import urllib.request as req #匯入使用網站的套件\n",
    "url = \"https://mojim.com/twh219017.htm\"\n",
    "\n",
    "#with是Python中的一個上下文管理器，with語句結束時會自動關閉網路請求\n",
    "with req.urlopen(url) as response: #打開網址並設定變數為response\n",
    "    Bestards = response.read().decode(\"utf8\") #儲存網頁的內容在Bestards"
   ]
  },
  {
   "cell_type": "code",
   "execution_count": null,
   "id": "c028d24d",
   "metadata": {},
   "outputs": [],
   "source": [
    "import bs4 #匯入BeautifulSoup4(一個用於解析HTML和XML文件的Python庫)\n",
    "\n",
    "home = bs4.BeautifulSoup(Bestards,\"html.parser\") #解析HTML文件\n",
    "\n",
    "#print(home.title)→會出現<title></title>\n",
    "print(home.title.string) #列出首頁的名稱"
   ]
  },
  {
   "cell_type": "code",
   "execution_count": null,
   "id": "6815a776",
   "metadata": {},
   "outputs": [],
   "source": [
    "import requests\n",
    "import re\n",
    "time = re.findall('[0-9])\\w+-([0-9])\\w', home)"
   ]
  },
  {
   "cell_type": "code",
   "execution_count": null,
   "id": "fbf3689a",
   "metadata": {},
   "outputs": [],
   "source": []
  }
 ],
 "metadata": {
  "kernelspec": {
   "display_name": "Python 3 (ipykernel)",
   "language": "python",
   "name": "python3"
  },
  "language_info": {
   "codemirror_mode": {
    "name": "ipython",
    "version": 3
   },
   "file_extension": ".py",
   "mimetype": "text/x-python",
   "name": "python",
   "nbconvert_exporter": "python",
   "pygments_lexer": "ipython3",
   "version": "3.9.13"
  }
 },
 "nbformat": 4,
 "nbformat_minor": 5
}
