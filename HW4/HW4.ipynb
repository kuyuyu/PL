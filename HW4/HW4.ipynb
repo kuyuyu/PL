{
 "cells": [
  {
   "cell_type": "code",
   "execution_count": 6,
   "id": "57a7c530",
   "metadata": {},
   "outputs": [],
   "source": [
    "import requests\n",
    "import time\n",
    "from time import sleep\n",
    "from bs4 import BeautifulSoup"
   ]
  },
  {
   "cell_type": "code",
   "execution_count": 7,
   "id": "f6be4b73",
   "metadata": {},
   "outputs": [
    {
     "data": {
      "text/plain": [
       "<Response [200]>"
      ]
     },
     "execution_count": 7,
     "metadata": {},
     "output_type": "execute_result"
    }
   ],
   "source": [
    "headers = {\n",
    "    'User-Agent': 'Mozilla/5.0 (Windows NT 10.0; Win64; x64) AppleWebKit/537.36 (KHTML, like Gecko) Chrome/111.0.0.0 Safari/537.36'\n",
    "}\n",
    "response = requests.get('https://mojim.com/twh219017.htm', headers=headers) #先確認這個網頁可以被爬\n",
    "response"
   ]
  },
  {
   "cell_type": "code",
   "execution_count": 14,
   "id": "c7e11599",
   "metadata": {},
   "outputs": [],
   "source": [
    "#找出魔鏡歌詞網中有列出的全部理想混蛋的歌的網址\n",
    "link = []\n",
    "\n",
    "for i in range(1, 21):\n",
    "    if i == 9:\n",
    "        link.append(\"https://mojim.com/twy219017x9x1.htm\")\n",
    "        link.append(\"https://mojim.com/twy219017x9x2.htm\")\n",
    "    elif i == 11:\n",
    "        for j in range(1, 12):\n",
    "            link.append(f\"https://mojim.com/twy219017x{i}x{j}.htm\")\n",
    "    elif i == 18:\n",
    "        for j in range(1, 11):\n",
    "            link.append(f\"https://mojim.com/twy219017x{i}x{j}.htm\")\n",
    "    elif i != 2:\n",
    "        link.append(f\"https://mojim.com/twy219017x{i}x1.htm\")"
   ]
  },
  {
   "cell_type": "code",
   "execution_count": 15,
   "id": "b9fc7e53",
   "metadata": {},
   "outputs": [
    {
     "data": {
      "text/plain": [
       "['https://mojim.com/twy219017x1x1.htm',\n",
       " 'https://mojim.com/twy219017x3x1.htm',\n",
       " 'https://mojim.com/twy219017x4x1.htm',\n",
       " 'https://mojim.com/twy219017x5x1.htm',\n",
       " 'https://mojim.com/twy219017x6x1.htm',\n",
       " 'https://mojim.com/twy219017x7x1.htm',\n",
       " 'https://mojim.com/twy219017x8x1.htm',\n",
       " 'https://mojim.com/twy219017x9x1.htm',\n",
       " 'https://mojim.com/twy219017x9x2.htm',\n",
       " 'https://mojim.com/twy219017x10x1.htm',\n",
       " 'https://mojim.com/twy219017x11x1.htm',\n",
       " 'https://mojim.com/twy219017x11x2.htm',\n",
       " 'https://mojim.com/twy219017x11x3.htm',\n",
       " 'https://mojim.com/twy219017x11x4.htm',\n",
       " 'https://mojim.com/twy219017x11x5.htm',\n",
       " 'https://mojim.com/twy219017x11x6.htm',\n",
       " 'https://mojim.com/twy219017x11x7.htm',\n",
       " 'https://mojim.com/twy219017x11x8.htm',\n",
       " 'https://mojim.com/twy219017x11x9.htm',\n",
       " 'https://mojim.com/twy219017x11x10.htm',\n",
       " 'https://mojim.com/twy219017x11x11.htm',\n",
       " 'https://mojim.com/twy219017x12x1.htm',\n",
       " 'https://mojim.com/twy219017x13x1.htm',\n",
       " 'https://mojim.com/twy219017x14x1.htm',\n",
       " 'https://mojim.com/twy219017x15x1.htm',\n",
       " 'https://mojim.com/twy219017x16x1.htm',\n",
       " 'https://mojim.com/twy219017x17x1.htm',\n",
       " 'https://mojim.com/twy219017x18x1.htm',\n",
       " 'https://mojim.com/twy219017x18x2.htm',\n",
       " 'https://mojim.com/twy219017x18x3.htm',\n",
       " 'https://mojim.com/twy219017x18x4.htm',\n",
       " 'https://mojim.com/twy219017x18x5.htm',\n",
       " 'https://mojim.com/twy219017x18x6.htm',\n",
       " 'https://mojim.com/twy219017x18x7.htm',\n",
       " 'https://mojim.com/twy219017x18x8.htm',\n",
       " 'https://mojim.com/twy219017x18x9.htm',\n",
       " 'https://mojim.com/twy219017x18x10.htm',\n",
       " 'https://mojim.com/twy219017x19x1.htm',\n",
       " 'https://mojim.com/twy219017x20x1.htm']"
      ]
     },
     "execution_count": 15,
     "metadata": {},
     "output_type": "execute_result"
    }
   ],
   "source": [
    "link"
   ]
  },
  {
   "cell_type": "code",
   "execution_count": 24,
   "id": "04eb1e8f",
   "metadata": {},
   "outputs": [],
   "source": [
    "for url in link:\n",
    "    response = requests.get(url)\n",
    "    #response.encoding = 'utf-8'\n",
    "    bestards = BeautifulSoup(response.text, 'html.parser')"
   ]
  },
  {
   "cell_type": "markdown",
   "id": "779efb99",
   "metadata": {},
   "source": [
    "##### 確認解析成功\n",
    "print(bestards)"
   ]
  },
  {
   "cell_type": "code",
   "execution_count": 28,
   "id": "d7908945",
   "metadata": {},
   "outputs": [
    {
     "name": "stdout",
     "output_type": "stream",
     "text": [
      "None\n",
      "None\n",
      "None\n",
      "None\n",
      "None\n",
      "None\n",
      "None\n",
      "None\n",
      "None\n",
      "None\n",
      "None\n",
      "None\n",
      "None\n",
      "None\n",
      "None\n",
      "None\n",
      "None\n",
      "None\n",
      "None\n",
      "None\n",
      "None\n",
      "None\n",
      "None\n",
      "None\n",
      "None\n",
      "None\n",
      "None\n",
      "None\n",
      "None\n",
      "None\n",
      "None\n",
      "None\n",
      "None\n",
      "None\n",
      "None\n",
      "None\n",
      "None\n",
      "None\n",
      "None\n",
      "None\n",
      "None\n",
      "None\n",
      "None\n",
      "None\n",
      "None\n",
      "None\n",
      "None\n",
      "None\n",
      "None\n",
      "None\n"
     ]
    }
   ],
   "source": [
    "tag_dd = bestards.find('dd', {'id': 'fsZx3'})\n",
    "lyrics = tag_dd.find_all('br')\n",
    "\n",
    "for lyric in lyrics:\n",
    "    print(lyric.string)"
   ]
  },
  {
   "cell_type": "code",
   "execution_count": null,
   "id": "f5a69412",
   "metadata": {},
   "outputs": [],
   "source": [
    "#找出<br>標籤並取出其內容\n",
    "for tag_br in soup.find_all('br'):\n",
    "    lyrics = tag_br.next_sibling.strip()  # 取得 <br> 標籤的下一個節點的內容\n",
    "    print(lyrics)"
   ]
  }
 ],
 "metadata": {
  "kernelspec": {
   "display_name": "Python 3 (ipykernel)",
   "language": "python",
   "name": "python3"
  },
  "language_info": {
   "codemirror_mode": {
    "name": "ipython",
    "version": 3
   },
   "file_extension": ".py",
   "mimetype": "text/x-python",
   "name": "python",
   "nbconvert_exporter": "python",
   "pygments_lexer": "ipython3",
   "version": "3.9.13"
  }
 },
 "nbformat": 4,
 "nbformat_minor": 5
}
