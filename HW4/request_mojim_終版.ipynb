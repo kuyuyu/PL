{
 "cells": [
  {
   "cell_type": "code",
   "execution_count": 1,
   "id": "e545366e",
   "metadata": {},
   "outputs": [],
   "source": [
    "import requests\n",
    "import time\n",
    "from time import sleep\n",
    "from bs4 import BeautifulSoup"
   ]
  },
  {
   "cell_type": "code",
   "execution_count": 2,
   "id": "6939746d",
   "metadata": {},
   "outputs": [],
   "source": [
    "#找出魔鏡歌詞網中有列出的全部理想混蛋的歌的網址\n",
    "link = []\n",
    "\n",
    "for i in range(1, 21):\n",
    "    if i == 9:\n",
    "        link.append('https://mojim.com/twy219017x9x1.htm')\n",
    "        link.append('https://mojim.com/twy219017x9x2.htm')\n",
    "    elif i == 11:\n",
    "        for j in range(1, 12):\n",
    "            link.append(f'https://mojim.com/twy219017x{i}x{j}.htm')\n",
    "    elif i == 18:\n",
    "        for j in range(1, 11):\n",
    "            link.append(f'https://mojim.com/twy219017x{i}x{j}.htm')\n",
    "    elif i != 2:\n",
    "        link.append(f'https://mojim.com/twy219017x{i}x1.htm')"
   ]
  },
  {
   "cell_type": "code",
   "execution_count": 3,
   "id": "7678a666",
   "metadata": {},
   "outputs": [],
   "source": [
    "headers = {\n",
    "    'User-Agent': 'Mozilla/5.0 (Windows NT 10.0; Win64; x64) AppleWebKit/537.36 (KHTML, like Gecko) Chrome/111.0.0.0 Safari/537.36'\n",
    "}\n",
    "bestards = []\n",
    "for url in link:\n",
    "    response = requests.get(url, headers=headers)\n",
    "    if response.status_code == 200:\n",
    "        #print(f'{url} 請求成功！') #註:因為確認都顯示成功，所以就不print了\n",
    "        soup = BeautifulSoup(response.text, 'html.parser')\n",
    "        bestards.append(soup)\n",
    "    #else:\n",
    "        #print(f'{url} 請求失敗，狀態碼為 {response.status_code}。')"
   ]
  },
  {
   "cell_type": "code",
   "execution_count": 4,
   "id": "3a68c724",
   "metadata": {},
   "outputs": [],
   "source": [
    "for url in link:  \n",
    "    response = requests.get(url, headers=headers)\n",
    "    soup = BeautifulSoup(response.text, 'html.parser')\n",
    "    tag_div = soup.find_all('div', {'id': 'fsZ', 'class': 'fsZ'})\n",
    "    for div in tag_div:\n",
    "        tag_dl = div.find_all('dl', {'id': 'fsZx1', 'class': 'fsZx1'})\n",
    "        #print(tag_dl)"
   ]
  },
  {
   "cell_type": "code",
   "execution_count": 5,
   "id": "24914d59",
   "metadata": {},
   "outputs": [],
   "source": [
    "#存成csv檔\n",
    "import csv\n",
    "data = []\n",
    "for url in link:\n",
    "    response = requests.get(url, headers=headers)\n",
    "    soup = BeautifulSoup(response.text, 'html.parser')\n",
    "    tag_div = soup.find_all('div', {'id': 'fsZ', 'class': 'fsZ'})\n",
    "    for div in tag_div:\n",
    "        tag_dl = div.find_all('dl', {'id': 'fsZx1', 'class': 'fsZx1'})\n",
    "        for dl in tag_dl:\n",
    "            # extract the data from each <dl> tag\n",
    "            # and append it to the data list\n",
    "            data.append([dt.text.strip() for dt in dl.find_all('dt')])\n",
    "            data.append([dd.text.strip() for dd in dl.find_all('dd')])\n",
    "\n",
    "# write the data to a CSV file\n",
    "with open('data.csv', 'w', newline='', encoding='utf-8') as csvfile:\n",
    "    writer = csv.writer(csvfile)\n",
    "    writer.writerows(data)"
   ]
  },
  {
   "cell_type": "markdown",
   "id": "22512789",
   "metadata": {},
   "source": [
    "#### 爬蟲完成，接下來進行斷詞"
   ]
  },
  {
   "cell_type": "code",
   "execution_count": 7,
   "id": "472b5bde",
   "metadata": {},
   "outputs": [
    {
     "data": {
      "text/html": [
       "<div>\n",
       "<style scoped>\n",
       "    .dataframe tbody tr th:only-of-type {\n",
       "        vertical-align: middle;\n",
       "    }\n",
       "\n",
       "    .dataframe tbody tr th {\n",
       "        vertical-align: top;\n",
       "    }\n",
       "\n",
       "    .dataframe thead th {\n",
       "        text-align: right;\n",
       "    }\n",
       "</style>\n",
       "<table border=\"1\" class=\"dataframe\">\n",
       "  <thead>\n",
       "    <tr style=\"text-align: right;\">\n",
       "      <th></th>\n",
       "      <th>行星</th>\n",
       "    </tr>\n",
       "  </thead>\n",
       "  <tbody>\n",
       "    <tr>\n",
       "      <th>0</th>\n",
       "      <td>作詞：邱建豪作曲：邱建豪、郭哲成編曲：理想混蛋主唱：邱建豪沒有行李 沒有目的一個人旅行在無邊...</td>\n",
       "    </tr>\n",
       "    <tr>\n",
       "      <th>1</th>\n",
       "      <td>不是因為天氣晴朗才愛你</td>\n",
       "    </tr>\n",
       "    <tr>\n",
       "      <th>2</th>\n",
       "      <td>演唱：邱建豪作詞：邱建豪作曲：邱建豪編曲：理想混蛋不是因為天氣晴朗才愛你不是因為看見星星才想...</td>\n",
       "    </tr>\n",
       "    <tr>\n",
       "      <th>3</th>\n",
       "      <td>獨角仙的夢 (Kabutomushi's Dream)</td>\n",
       "    </tr>\n",
       "    <tr>\n",
       "      <th>4</th>\n",
       "      <td>作詞：邱建豪作曲：邱建豪編曲：理想混蛋驕傲的活著 向晚的天空裡飛身體還殘留著 土壤氣味高樓天...</td>\n",
       "    </tr>\n",
       "  </tbody>\n",
       "</table>\n",
       "</div>"
      ],
      "text/plain": [
       "                                                  行星\n",
       "0  作詞：邱建豪作曲：邱建豪、郭哲成編曲：理想混蛋主唱：邱建豪沒有行李 沒有目的一個人旅行在無邊...\n",
       "1                                        不是因為天氣晴朗才愛你\n",
       "2  演唱：邱建豪作詞：邱建豪作曲：邱建豪編曲：理想混蛋不是因為天氣晴朗才愛你不是因為看見星星才想...\n",
       "3                        獨角仙的夢 (Kabutomushi's Dream)\n",
       "4  作詞：邱建豪作曲：邱建豪編曲：理想混蛋驕傲的活著 向晚的天空裡飛身體還殘留著 土壤氣味高樓天..."
      ]
     },
     "execution_count": 7,
     "metadata": {},
     "output_type": "execute_result"
    }
   ],
   "source": [
    "import pandas as pd\n",
    "\n",
    "bestard = pd.read_csv('data.csv')\n",
    "bestard.head()"
   ]
  },
  {
   "cell_type": "code",
   "execution_count": 8,
   "id": "1ff86731",
   "metadata": {},
   "outputs": [],
   "source": [
    "import jieba\n",
    "import jieba.analyse\n",
    "import numpy\n",
    "from collections import Counter"
   ]
  },
  {
   "cell_type": "code",
   "execution_count": 13,
   "id": "9096fbdc",
   "metadata": {},
   "outputs": [
    {
     "data": {
      "text/html": [
       "<div>\n",
       "<style scoped>\n",
       "    .dataframe tbody tr th:only-of-type {\n",
       "        vertical-align: middle;\n",
       "    }\n",
       "\n",
       "    .dataframe tbody tr th {\n",
       "        vertical-align: top;\n",
       "    }\n",
       "\n",
       "    .dataframe thead th {\n",
       "        text-align: right;\n",
       "    }\n",
       "</style>\n",
       "<table border=\"1\" class=\"dataframe\">\n",
       "  <thead>\n",
       "    <tr style=\"text-align: right;\">\n",
       "      <th></th>\n",
       "      <th>行星</th>\n",
       "      <th>seg</th>\n",
       "    </tr>\n",
       "  </thead>\n",
       "  <tbody>\n",
       "    <tr>\n",
       "      <th>0</th>\n",
       "      <td>作詞：邱建豪作曲：邱建豪、郭哲成編曲：理想混蛋主唱：邱建豪沒有行李 沒有目的一個人旅行在無邊...</td>\n",
       "      <td></td>\n",
       "    </tr>\n",
       "    <tr>\n",
       "      <th>1</th>\n",
       "      <td>不是因為天氣晴朗才愛你</td>\n",
       "      <td></td>\n",
       "    </tr>\n",
       "    <tr>\n",
       "      <th>2</th>\n",
       "      <td>演唱：邱建豪作詞：邱建豪作曲：邱建豪編曲：理想混蛋不是因為天氣晴朗才愛你不是因為看見星星才想...</td>\n",
       "      <td></td>\n",
       "    </tr>\n",
       "    <tr>\n",
       "      <th>3</th>\n",
       "      <td>獨角仙的夢 (Kabutomushi's Dream)</td>\n",
       "      <td></td>\n",
       "    </tr>\n",
       "    <tr>\n",
       "      <th>4</th>\n",
       "      <td>作詞：邱建豪作曲：邱建豪編曲：理想混蛋驕傲的活著 向晚的天空裡飛身體還殘留著 土壤氣味高樓天...</td>\n",
       "      <td></td>\n",
       "    </tr>\n",
       "  </tbody>\n",
       "</table>\n",
       "</div>"
      ],
      "text/plain": [
       "                                                  行星 seg\n",
       "0  作詞：邱建豪作曲：邱建豪、郭哲成編曲：理想混蛋主唱：邱建豪沒有行李 沒有目的一個人旅行在無邊...    \n",
       "1                                        不是因為天氣晴朗才愛你    \n",
       "2  演唱：邱建豪作詞：邱建豪作曲：邱建豪編曲：理想混蛋不是因為天氣晴朗才愛你不是因為看見星星才想...    \n",
       "3                        獨角仙的夢 (Kabutomushi's Dream)    \n",
       "4  作詞：邱建豪作曲：邱建豪編曲：理想混蛋驕傲的活著 向晚的天空裡飛身體還殘留著 土壤氣味高樓天...    "
      ]
     },
     "execution_count": 13,
     "metadata": {},
     "output_type": "execute_result"
    }
   ],
   "source": [
    "bestard['seg'] = \"\"\n",
    "bestard.head()"
   ]
  },
  {
   "cell_type": "code",
   "execution_count": 14,
   "id": "1b6044d0",
   "metadata": {},
   "outputs": [],
   "source": [
    "index = 0\n",
    "for documents in bestard['行星'].astype(str):\n",
    "    #seg_list = jieba.analyse.extract_tags(documents, 150)\n",
    "    seg_list = jieba.lcut(documents)\n",
    "    bestard['seg'].iloc[index] = seg_list\n",
    "    index += 1"
   ]
  },
  {
   "cell_type": "code",
   "execution_count": 15,
   "id": "aa6c06fe",
   "metadata": {},
   "outputs": [
    {
     "data": {
      "text/plain": [
       "0     [作詞, ：, 邱建豪, 作曲, ：, 邱建豪, 、, 郭哲成, 編曲, ：, 理想, 混蛋...\n",
       "1                             [不是, 因為, 天氣, 晴朗, 才, 愛, 你]\n",
       "2     [演唱, ：, 邱建豪, 作詞, ：, 邱建豪, 作曲, ：, 邱建豪, 編曲, ：, 理想...\n",
       "3     [獨角, 仙, 的, 夢,  , (, Kabutomushi, ', s,  , Drea...\n",
       "4     [作詞, ：, 邱建豪, 作曲, ：, 邱建豪, 編曲, ：, 理想, 混蛋, 驕傲, 的,...\n",
       "                            ...                        \n",
       "72    [作詞, ：, 邱建豪, 、, 郭哲成, 作曲, ：, 邱建豪, 、, 郭哲成, 冰河期, ...\n",
       "73                                            [屬, 於, 你]\n",
       "74    [電影,  , 一周, 的, 朋友,  , 插曲, 作詞, ：, 林孝謙, 作曲, ：, 盧...\n",
       "75                                     [Easy,  , Peasy]\n",
       "76    [作詞, ：, 邱建豪, 、, 盧可沛, 、, 李建廷, 、, 郭哲成, 作曲, ：, 盧可...\n",
       "Name: seg, Length: 77, dtype: object"
      ]
     },
     "execution_count": 15,
     "metadata": {},
     "output_type": "execute_result"
    }
   ],
   "source": [
    "bestard['seg']"
   ]
  },
  {
   "cell_type": "code",
   "execution_count": 12,
   "id": "6eb6e983",
   "metadata": {},
   "outputs": [
    {
     "data": {
      "text/plain": [
       "         1010\n",
       "的         535\n",
       "你         373\n",
       "我         299\n",
       "[         175\n",
       ":         175\n",
       "]         175\n",
       "在         148\n",
       "了         121\n",
       "，         114\n",
       "：         106\n",
       "是          89\n",
       "更          84\n",
       "不          80\n",
       "也          74\n",
       "邱建豪        71\n",
       "有          70\n",
       "再          69\n",
       "說          62\n",
       "就          59\n",
       "都          54\n",
       "我們         53\n",
       "什麼         52\n",
       "著          51\n",
       "卻          49\n",
       "多          48\n",
       "好          46\n",
       ".          43\n",
       "作詞         42\n",
       "作曲         42\n",
       "歌詞         42\n",
       "歌          41\n",
       "02         40\n",
       "。          39\n",
       "Mojim      39\n",
       "com        39\n",
       "詞網         39\n",
       "　          39\n",
       "※          39\n",
       "魔鏡         39\n",
       "誰          39\n",
       "啦          39\n",
       "沒          39\n",
       "03         38\n",
       "、          38\n",
       "詳盡         37\n",
       "01         37\n",
       "00         37\n",
       "怎麼         36\n",
       "人          36\n",
       "dtype: int64"
      ]
     },
     "execution_count": 12,
     "metadata": {},
     "output_type": "execute_result"
    }
   ],
   "source": [
    "bestard.to_csv(\"lyrics.csv\", index=False)"
   ]
  },
  {
   "cell_type": "code",
   "execution_count": null,
   "id": "305a9b9b",
   "metadata": {},
   "outputs": [],
   "source": []
  }
 ],
 "metadata": {
  "kernelspec": {
   "display_name": "Python 3 (ipykernel)",
   "language": "python",
   "name": "python3"
  },
  "language_info": {
   "codemirror_mode": {
    "name": "ipython",
    "version": 3
   },
   "file_extension": ".py",
   "mimetype": "text/x-python",
   "name": "python",
   "nbconvert_exporter": "python",
   "pygments_lexer": "ipython3",
   "version": "3.9.13"
  }
 },
 "nbformat": 4,
 "nbformat_minor": 5
}
