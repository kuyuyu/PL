{
 "cells": [
  {
   "cell_type": "code",
   "execution_count": 1,
   "id": "6f274273",
   "metadata": {},
   "outputs": [],
   "source": [
    "import requests\n",
    "import time\n",
    "from time import sleep\n",
    "from bs4 import BeautifulSoup\n",
    "import csv"
   ]
  },
  {
   "cell_type": "code",
   "execution_count": 2,
   "id": "fa095ca5",
   "metadata": {},
   "outputs": [
    {
     "name": "stdout",
     "output_type": "stream",
     "text": [
      "請求成功！\n"
     ]
    }
   ],
   "source": [
    "head = {\n",
    "    'User-Agent': 'Mozilla/5.0 (Windows NT 10.0; Win64; x64) AppleWebKit/537.36 (KHTML, like Gecko) Chrome/111.0.0.0 Safari/537.36'\n",
    "}\n",
    "response = requests.get('https://e-info.org.tw/event', headers=head)\n",
    "if response.status_code == 200:\n",
    "    print('請求成功！')\n",
    "    soup = BeautifulSoup(response.text, 'html.parser')\n",
    "else:\n",
    "    print('請求失敗，狀態碼為 {response.status_code}。')"
   ]
  },
  {
   "cell_type": "code",
   "execution_count": 4,
   "id": "33682cc4",
   "metadata": {},
   "outputs": [
    {
     "name": "stdout",
     "output_type": "stream",
     "text": [
      "活動日期: 2023-09-30(週六)\n",
      "活動名稱: 【台灣蝴蝶保育學會】賞蝶趣—認識外來種蝴蝶\n",
      "活動網址: https://e-info.org.tw/node/236587\n",
      "活動日期: 2023-08-25(週五)\n",
      "活動名稱: 【台灣蝴蝶保育學會】賞蝶趣—認識外來種蝴蝶\n",
      "活動網址: https://e-info.org.tw/node/236587\n",
      "活動日期: 2023-07-28(週五)\n",
      "活動名稱: 【台灣蝴蝶保育學會】賞蝶趣—認識外來種蝴蝶\n",
      "活動網址: https://e-info.org.tw/node/236587\n",
      "活動日期: 2023-07-14(週五)\n",
      "活動名稱: 2023全國生物多樣性教育培訓班\n",
      "活動網址: https://e-info.org.tw/node/236830\n",
      "活動日期: 2023-07-08(週六)\n",
      "活動名稱: 【台灣蝴蝶保育學會】賞蝶趣—認識外來種蝴蝶\n",
      "活動網址: https://e-info.org.tw/node/236587\n",
      "活動日期: 2023-06-30(週五)\n",
      "活動名稱: 【台灣環境資訊協會】一起守護山林，捐款贈送桃山神木等身海報！\n",
      "活動網址: https://e-info.org.tw/node/236651\n",
      "活動日期: 2023-06-30(週五)\n",
      "活動名稱: 【台灣環境資訊協會】一起守護山林，捐款贈送桃山神木等身海報！\n",
      "活動網址: https://e-info.org.tw/node/236651\n",
      "活動日期: 2023-06-29(週四)\n",
      "活動名稱: 【台灣河溪學院】河川生命力-魚、青蛙及鳥朋友\n",
      "活動網址: https://e-info.org.tw/node/236795\n",
      "活動日期: 2023-06-25(週日)\n",
      "活動名稱: 【原生植物保育協會】前港公園市集暨艾草藥膏手工體驗\n",
      "活動網址: https://e-info.org.tw/node/236846\n",
      "活動日期: 2023-06-24(週六)\n",
      "活動名稱: 【台灣蝴蝶保育學會】賞蝶趣—認識外來種蝴蝶\n",
      "活動網址: https://e-info.org.tw/node/236587\n",
      "活動日期: 2023-06-24(週六)\n",
      "活動名稱: 【台灣蝴蝶保育學會】賞蝶趣—認識外來種蝴蝶\n",
      "活動網址: https://e-info.org.tw/node/236587\n",
      "活動日期: 2023-06-16(週五)\n",
      "活動名稱: 【自然谷環境信託基地】療癒企劃——野花草手抄紙╳茶席\n",
      "活動網址: https://e-info.org.tw/node/236818\n",
      "活動日期: 2023-06-15(週四)\n",
      "活動名稱: 【台灣河溪學院】河川生命力-魚、青蛙及鳥朋友\n",
      "活動網址: https://e-info.org.tw/node/236795\n",
      "活動日期: 2023-06-15(週四)\n",
      "活動名稱: 【台灣河溪學院】河川生命力-魚、青蛙及鳥朋友\n",
      "活動網址: https://e-info.org.tw/node/236795\n",
      "活動日期: 2023-06-10(週六)\n",
      "活動名稱: 【荒野台北】《二格山》夏葉絮語—森呼吸\n",
      "活動網址: https://e-info.org.tw/node/236887\n",
      "活動日期: 2023-06-08(週四)\n",
      "活動名稱: 【黃金蝙蝠生態館】世界海洋日-台灣白海豚的現在與未來\n",
      "活動網址: https://e-info.org.tw/node/236835\n",
      "活動日期: 2023-06-03(週六)\n",
      "活動名稱: 「投資地球，自然就好」綠色存股x阿里磅濕地\n",
      "活動網址: https://e-info.org.tw/node/236546\n",
      "活動日期: 2023-06-03(週六)\n",
      "活動名稱: 【荒野保護協會│大專生隊輔招募】2023 年暑期緯創社福兒童-地球守護者營隊十四日培訓\n",
      "活動網址: https://e-info.org.tw/node/236841\n",
      "活動日期: 2023-05-28(週日)\n",
      "活動名稱: 【荒野保護協會台北分會】《河岸漫遊》2023五股濕地生態園區生態導覽\n",
      "活動網址: https://e-info.org.tw/node/236778\n",
      "活動日期: 2023-05-27(週六)\n",
      "活動名稱: 【環資自然谷環境信託基地】生態講座_台灣陸域野生哺乳類多樣性及保育\n",
      "活動網址: https://e-info.org.tw/node/236739\n"
     ]
    }
   ],
   "source": [
    "event_dates = soup.find_all('span', class_='date-display-single')\n",
    "event_names = soup.find_all('td', class_='views-field-title')\n",
    "\n",
    "for event_date, event_name in zip(event_dates, event_names):\n",
    "    event_url = event_name.a['href']\n",
    "    print('活動日期:', event_date.text.strip())\n",
    "    print('活動名稱:', event_name.a.text.strip())\n",
    "    print('活動網址:', event_url)"
   ]
  },
  {
   "cell_type": "code",
   "execution_count": 5,
   "id": "668b40a7",
   "metadata": {},
   "outputs": [],
   "source": [
    "with open('ocean.csv', 'w', newline='', encoding='utf-8') as csvfile:\n",
    "    writer = csv.writer(csvfile)\n",
    "    writer.writerow(['活動日期', '活動名稱', '活動網址'])\n",
    "    \n",
    "    for event_date, event_name in zip(event_dates, event_names):\n",
    "        event_url = event_name.find('a')['href']\n",
    "        event_date = event_date.text.strip()\n",
    "        event_name = event_name.find('a').text.strip()\n",
    "        writer.writerow([event_date, event_name, event_url])"
   ]
  },
  {
   "cell_type": "code",
   "execution_count": 6,
   "id": "039b98fe",
   "metadata": {},
   "outputs": [],
   "source": [
    "import pandas as pd"
   ]
  },
  {
   "cell_type": "code",
   "execution_count": null,
   "id": "58acdf16",
   "metadata": {},
   "outputs": [],
   "source": [
    "SDG14 = pd.read_csv('')"
   ]
  }
 ],
 "metadata": {
  "kernelspec": {
   "display_name": "Python 3 (ipykernel)",
   "language": "python",
   "name": "python3"
  },
  "language_info": {
   "codemirror_mode": {
    "name": "ipython",
    "version": 3
   },
   "file_extension": ".py",
   "mimetype": "text/x-python",
   "name": "python",
   "nbconvert_exporter": "python",
   "pygments_lexer": "ipython3",
   "version": "3.9.13"
  }
 },
 "nbformat": 4,
 "nbformat_minor": 5
}
