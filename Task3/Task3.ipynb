{
 "cells": [
  {
   "cell_type": "code",
   "execution_count": 18,
   "id": "8c24c2fb",
   "metadata": {},
   "outputs": [
    {
     "data": {
      "text/plain": [
       "dict"
      ]
     },
     "execution_count": 18,
     "metadata": {},
     "output_type": "execute_result"
    }
   ],
   "source": [
    "#資料源自政府資料開放平臺\n",
    "\n",
    "import json #使用json套件 #(json因應變動的資料)\n",
    "\n",
    "aborigine = open('109 death_top10.json', encoding=\"utf8\") #強制編碼改成utf8\n",
    "\n",
    "data = json.load(aborigine) #將打開的文件對象aborigine作為參數傳遞給了load，load再將json格式的數據轉換為Python對象\n",
    "\n",
    "type(data) #查看data類型 #(在Python裡json對應的資料格式名字為dictionary)"
   ]
  },
  {
   "cell_type": "code",
   "execution_count": 19,
   "id": "76a92909",
   "metadata": {},
   "outputs": [
    {
     "data": {
      "text/plain": [
       "dict_items([('DateListed', 20220905), ('109年原住民族十大死因統計', [{'排名': 'top1', '死因': '惡性腫瘤', '人數': {'總計': 994, '男': 538, '女': 456}}, {'排名': 'top2', '死因': '心臟疾病(高血壓性疾病除外)', '人數': {'總計': 499, '男': 277, '女': 222}}, {'排名': 'top3', '死因': '腦血管疾病', '人數': {'總計': 337, '男': 184, '女': 153}}, {'排名': 'top4', '死因': '慢性肝病及肝硬化', '人數': {'總計': 306, '男': 210, '女': 96}}, {'排名': 'top5', '死因': '事故傷害', '人數': {'總計': 276, '男': 196, '女': 80}}, {'排名': 'top6', '死因': '肺炎', '人數': {'總計': 232, '男': 137, '女': 95}}, {'排名': 'top7', '死因': '糖尿病', '人數': {'總計': 230, '男': 110, '女': 120}}, {'排名': 'top8', '死因': '高血壓性疾病', '人數': {'總計': 181, '男': 106, '女': 75}}, {'排名': 'top9', '死因': '慢性下呼吸道疾病', '人數': {'總計': 124, '男': 71, '女': 53}}, {'排名': 'top10', '死因': '其他', '人數': {'總計': 917, '男': 510, '女': 407}}])])"
      ]
     },
     "execution_count": 19,
     "metadata": {},
     "output_type": "execute_result"
    }
   ],
   "source": [
    "data.items() #查看整筆資料"
   ]
  },
  {
   "cell_type": "code",
   "execution_count": 20,
   "id": "cc7fb528",
   "metadata": {},
   "outputs": [
    {
     "data": {
      "text/plain": [
       "20220905"
      ]
     },
     "execution_count": 20,
     "metadata": {},
     "output_type": "execute_result"
    }
   ],
   "source": [
    "temp = data.get('DateListed') #將DateListed的內容讀出來\n",
    "temp"
   ]
  },
  {
   "cell_type": "code",
   "execution_count": 25,
   "id": "c9f33b21",
   "metadata": {},
   "outputs": [
    {
     "name": "stdout",
     "output_type": "stream",
     "text": [
      "20220905\n",
      "[{'排名': 'top1', '死因': '惡性腫瘤', '人數': {'總計': 994, '男': 538, '女': 456}}, {'排名': 'top2', '死因': '心臟疾病(高血壓性疾病除外)', '人數': {'總計': 499, '男': 277, '女': 222}}, {'排名': 'top3', '死因': '腦血管疾病', '人數': {'總計': 337, '男': 184, '女': 153}}, {'排名': 'top4', '死因': '慢性肝病及肝硬化', '人數': {'總計': 306, '男': 210, '女': 96}}, {'排名': 'top5', '死因': '事故傷害', '人數': {'總計': 276, '男': 196, '女': 80}}, {'排名': 'top6', '死因': '肺炎', '人數': {'總計': 232, '男': 137, '女': 95}}, {'排名': 'top7', '死因': '糖尿病', '人數': {'總計': 230, '男': 110, '女': 120}}, {'排名': 'top8', '死因': '高血壓性疾病', '人數': {'總計': 181, '男': 106, '女': 75}}, {'排名': 'top9', '死因': '慢性下呼吸道疾病', '人數': {'總計': 124, '男': 71, '女': 53}}, {'排名': 'top10', '死因': '其他', '人數': {'總計': 917, '男': 510, '女': 407}}]\n"
     ]
    }
   ],
   "source": [
    "for n in data.items(): #dictionary第一層資料\n",
    "    print(n[1])"
   ]
  },
  {
   "cell_type": "code",
   "execution_count": 26,
   "id": "a8a0ee71",
   "metadata": {},
   "outputs": [
    {
     "ename": "AttributeError",
     "evalue": "'int' object has no attribute 'keys'",
     "output_type": "error",
     "traceback": [
      "\u001b[1;31m---------------------------------------------------------------------------\u001b[0m",
      "\u001b[1;31mAttributeError\u001b[0m                            Traceback (most recent call last)",
      "\u001b[1;32m~\\AppData\\Local\\Temp\\ipykernel_10664\\69482455.py\u001b[0m in \u001b[0;36m<module>\u001b[1;34m\u001b[0m\n\u001b[0;32m      1\u001b[0m \u001b[1;31m#項目別\u001b[0m\u001b[1;33m\u001b[0m\u001b[1;33m\u001b[0m\u001b[0m\n\u001b[1;32m----> 2\u001b[1;33m \u001b[0mcategories\u001b[0m \u001b[1;33m=\u001b[0m \u001b[0mtemp\u001b[0m\u001b[1;33m.\u001b[0m\u001b[0mkeys\u001b[0m\u001b[1;33m(\u001b[0m\u001b[1;33m)\u001b[0m\u001b[1;33m\u001b[0m\u001b[1;33m\u001b[0m\u001b[0m\n\u001b[0m\u001b[0;32m      3\u001b[0m \u001b[0mprint\u001b[0m\u001b[1;33m(\u001b[0m\u001b[0mcategories\u001b[0m\u001b[1;33m)\u001b[0m\u001b[1;33m\u001b[0m\u001b[1;33m\u001b[0m\u001b[0m\n",
      "\u001b[1;31mAttributeError\u001b[0m: 'int' object has no attribute 'keys'"
     ]
    }
   ],
   "source": [
    "#項目別\n",
    "categories = temp.keys()\n",
    "print(categories)"
   ]
  },
  {
   "cell_type": "code",
   "execution_count": null,
   "id": "ebcf2195",
   "metadata": {},
   "outputs": [],
   "source": []
  }
 ],
 "metadata": {
  "kernelspec": {
   "display_name": "Python 3 (ipykernel)",
   "language": "python",
   "name": "python3"
  },
  "language_info": {
   "codemirror_mode": {
    "name": "ipython",
    "version": 3
   },
   "file_extension": ".py",
   "mimetype": "text/x-python",
   "name": "python",
   "nbconvert_exporter": "python",
   "pygments_lexer": "ipython3",
   "version": "3.9.13"
  }
 },
 "nbformat": 4,
 "nbformat_minor": 5
}
