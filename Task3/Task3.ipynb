{
 "cells": [
  {
   "cell_type": "code",
   "execution_count": 11,
   "id": "8c24c2fb",
   "metadata": {},
   "outputs": [
    {
     "data": {
      "text/plain": [
       "list"
      ]
     },
     "execution_count": 11,
     "metadata": {},
     "output_type": "execute_result"
    }
   ],
   "source": [
    "#使用json套件 #(json因應變動的資料)\n",
    "import json\n",
    "\n",
    "#強制編碼改成utf8\n",
    "aborigine = open('109 death_top10.json', encoding=\"utf8\")\n",
    "\n",
    "#將打開的文件對象aborigine作為參數傳遞給了load，load再將json格式的數據轉換為Python對象\n",
    "data = json.load(aborigine)\n",
    "\n",
    "#查看data類型 #(在Python裡json對應的資料格式名字為dictionary)\n",
    "type(data)"
   ]
  },
  {
   "cell_type": "code",
   "execution_count": 12,
   "id": "76a92909",
   "metadata": {},
   "outputs": [
    {
     "data": {
      "text/plain": [
       "[{'success': True,\n",
       "  'result': {'resource_id': 'A53000000A-111039-001',\n",
       "   'fields': [{'type': 'int4', 'id': 'Seq'},\n",
       "    {'type': 'text', 'id': 'DateListed'},\n",
       "    {'type': 'text', 'id': '年度'},\n",
       "    {'type': 'text', 'id': '排名'},\n",
       "    {'type': 'text', 'id': '死因'},\n",
       "    {'type': 'text', 'id': '總計'},\n",
       "    {'type': 'text', 'id': '男'},\n",
       "    {'type': 'text', 'id': '女'}],\n",
       "   'records': [{'Seq': 1,\n",
       "     'DateListed': '20220905',\n",
       "     '年度': '109',\n",
       "     '排名': '第一大',\n",
       "     '死因': '惡性腫瘤',\n",
       "     '總計': '994',\n",
       "     '男': '538',\n",
       "     '女': '456'},\n",
       "    {'Seq': 2,\n",
       "     'DateListed': '20220905',\n",
       "     '年度': '109',\n",
       "     '排名': '第二大',\n",
       "     '死因': '心臟疾病(高血壓性疾病除外)',\n",
       "     '總計': '499',\n",
       "     '男': '277',\n",
       "     '女': '222'},\n",
       "    {'Seq': 3,\n",
       "     'DateListed': '20220905',\n",
       "     '年度': '109',\n",
       "     '排名': '第三大',\n",
       "     '死因': '腦血管疾病',\n",
       "     '總計': '337',\n",
       "     '男': '184',\n",
       "     '女': '153'},\n",
       "    {'Seq': 4,\n",
       "     'DateListed': '20220905',\n",
       "     '年度': '109',\n",
       "     '排名': '第四大',\n",
       "     '死因': '慢性肝病及肝硬化',\n",
       "     '總計': '306',\n",
       "     '男': '210',\n",
       "     '女': '96'},\n",
       "    {'Seq': 5,\n",
       "     'DateListed': '20220905',\n",
       "     '年度': '109',\n",
       "     '排名': '第五大',\n",
       "     '死因': '事故傷害',\n",
       "     '總計': '276',\n",
       "     '男': '196',\n",
       "     '女': '80'},\n",
       "    {'Seq': 6,\n",
       "     'DateListed': '20220905',\n",
       "     '年度': '109',\n",
       "     '排名': '第六大',\n",
       "     '死因': '肺炎',\n",
       "     '總計': '232',\n",
       "     '男': '137',\n",
       "     '女': '95'},\n",
       "    {'Seq': 7,\n",
       "     'DateListed': '20220905',\n",
       "     '年度': '109',\n",
       "     '排名': '第七大',\n",
       "     '死因': '糖尿病',\n",
       "     '總計': '230',\n",
       "     '男': '110',\n",
       "     '女': '120'},\n",
       "    {'Seq': 8,\n",
       "     'DateListed': '20220905',\n",
       "     '年度': '109',\n",
       "     '排名': '第八大',\n",
       "     '死因': '高血壓性疾病',\n",
       "     '總計': '181',\n",
       "     '男': '106',\n",
       "     '女': '75'},\n",
       "    {'Seq': 9,\n",
       "     'DateListed': '20220905',\n",
       "     '年度': '109',\n",
       "     '排名': '第九大',\n",
       "     '死因': '慢性下呼吸道疾病',\n",
       "     '總計': '124',\n",
       "     '男': '71',\n",
       "     '女': '53'},\n",
       "    {'Seq': 10,\n",
       "     'DateListed': '20220905',\n",
       "     '年度': '109',\n",
       "     '排名': '第十大',\n",
       "     '死因': '其他',\n",
       "     '總計': '917',\n",
       "     '男': '510',\n",
       "     '女': '407'}],\n",
       "   'limit': 0,\n",
       "   'offset': 0,\n",
       "   'total': 10}}]"
      ]
     },
     "execution_count": 12,
     "metadata": {},
     "output_type": "execute_result"
    }
   ],
   "source": [
    "data.items()"
   ]
  },
  {
   "cell_type": "code",
   "execution_count": null,
   "id": "cc7fb528",
   "metadata": {},
   "outputs": [],
   "source": []
  }
 ],
 "metadata": {
  "kernelspec": {
   "display_name": "Python 3 (ipykernel)",
   "language": "python",
   "name": "python3"
  },
  "language_info": {
   "codemirror_mode": {
    "name": "ipython",
    "version": 3
   },
   "file_extension": ".py",
   "mimetype": "text/x-python",
   "name": "python",
   "nbconvert_exporter": "python",
   "pygments_lexer": "ipython3",
   "version": "3.9.13"
  }
 },
 "nbformat": 4,
 "nbformat_minor": 5
}
