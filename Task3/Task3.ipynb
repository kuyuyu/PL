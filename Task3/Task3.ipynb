{
 "cells": [
  {
   "cell_type": "code",
   "execution_count": 3,
   "id": "8c24c2fb",
   "metadata": {},
   "outputs": [
    {
     "data": {
      "text/plain": [
       "dict"
      ]
     },
     "execution_count": 3,
     "metadata": {},
     "output_type": "execute_result"
    }
   ],
   "source": [
    "import json\n",
    "guide = open('video.json', encoding=\"utf8\")\n",
    "data = json.load(guide)\n",
    "type(data)"
   ]
  },
  {
   "cell_type": "code",
   "execution_count": 4,
   "id": "76a92909",
   "metadata": {},
   "outputs": [
    {
     "data": {
      "text/plain": [
       "dict_items([('data', [{'id': 31475, 'uuid': 'b305b005-8b81-4c2e-9aaf-f71e987a4b39', 'title': '樂活花園', 'description': '藉由特殊的景觀設計，樂活花園以自然美學，創造出一個充滿陽光、綠樹、紅葉、花香以及鳥鳴的空間。在這裡，你可以放鬆身心，觀察植物的形態，觸摸葉片質地的變化。試著找找石蓮花的葉子、茄苳樹的樹皮，輕輕觸摸、感受其觸感。或者，用鼻子聞一聞植物散發的氣味。樂活花園歡迎你打開五感，感受陽光的溫度、聆聽大自然的蟲鳴鳥叫或流水聲，與自然交流互動。', 'videoType': 2, 'images': ['https://themefile.culture.tw/collection/2020-01-30/e305df24-4a07-4d70-87de-fe1267509774/66.樂活花園2.jpg'], 'link': 'https://tour.cksmh.gov.tw/home/zh-tw/video/31475'}, {'id': 31476, 'uuid': '2a4115cd-3459-4950-9e73-7bd28f6a5225', 'title': '修善寺寒櫻', 'description': '修善寺寒櫻的種植地位於園區環堂道路靠近大孝門側，花期約為每年2-3月。修善寺寒櫻原生於日本伊豆修善寺境內，在臺灣據推測應是與緋寒櫻交配而來。開花期較園區吉野櫻早，樹高可達8-10公尺，樹幹筆直，樹姿呈廣卵形，葉色濃綠，葉背略帶白色。屬於單瓣花，花瓣5枚，花朵中型大小，帶有淡淡的桃紅色，果實主要呈黑紫色。', 'videoType': 2, 'images': ['https://themefile.culture.tw/collection/2020-01-30/e6085dcf-baf3-4b82-a392-30abdce25ffa/57.修繕寺1.jpg'], 'link': 'https://tour.cksmh.gov.tw/home/zh-tw/video/31476'}, {'id': 31479, 'uuid': '1e94ebf0-4167-4326-8eff-958ae4fcc49a', 'title': '吉野櫻花', 'description': '吉野櫻是日本櫻花品種之一，因種植容易、生長速度快而廣受眾人喜愛。吉野櫻的種植地，位在園區光華池畔及原生櫻花區靠步道旁，花期較晚，約為每年3月。 吉野櫻屬於單瓣花，花瓣5枚，花朵稍大、開花後才會長葉；花柄較短，看起來就像是貼在枝頭上，整株開花時遠看特別耀眼！花開初期呈淡雅的粉紅色，全開時漸轉雪白色，蕊芯部分偏紅。', 'videoType': 2, 'images': ['https://themefile.culture.tw/collection/2020-01-30/548a64d4-0c27-4ecf-9d99-139eb8b6696f/56.吉野櫻花2.jpg'], 'link': 'https://tour.cksmh.gov.tw/home/zh-tw/video/31479'}, {'id': 31480, 'uuid': '20770a94-35d8-4f8a-9793-c34ca729f94c', 'title': '山櫻花', 'description': '由主堂體往信義路、杭州南路角門的透水步道行走，來到園區的原生櫻花區。山櫻花是臺灣最具代表性的櫻花，又稱緋寒櫻，緋就是紅色，寒表示耐冷。 目前在此區種植數十株山櫻花，平均高度約4公尺，每年約在1至2月時綻放，之後結果，成熟時呈暗紅色可食用(有澀味不適人類食用)。在臺灣多種植為庭園景觀造景與觀光地區搭配部分行道樹之用，生長較久之枝幹部表皮常呈片狀剝落，小枝條表面則光滑。', 'videoType': 2, 'images': ['https://themefile.culture.tw/collection/2020-01-30/aeed75de-77aa-4432-a16b-0a162114b5bd/55.山櫻花1.jpg'], 'link': 'https://tour.cksmh.gov.tw/home/zh-tw/video/31480'}, {'id': 31481, 'uuid': 'f25e7a9f-b8ca-4eef-b6e9-6bdb56156be0', 'title': '八重櫻', 'description': '八重櫻為落葉喬木，高度8-10公尺，主要種植於堂後步道。八重櫻和山櫻花一樣是花色偏紅、花朵茂密，只是山櫻花是單瓣，八重櫻是重瓣。由於重瓣花型像牡丹，所以又名牡丹櫻，但與日本的牡丹櫻是不同的品種。 你知道如何分辨園區的櫻花嗎？花開時節是其中一個較為簡單的方式。以臺灣的天氣來說，八重櫻多在2月中下旬綻放，山櫻花則稍早便綻放。', 'videoType': 2, 'images': ['https://themefile.culture.tw/collection/2020-01-30/6df41b3e-a151-4e3a-9ddf-1f9d2ae89f5e/八重櫻.jpg'], 'link': 'https://tour.cksmh.gov.tw/home/zh-tw/video/31481'}, {'id': 31482, 'uuid': '49d232c3-1c00-445a-aded-62f698a16dd1', 'title': '河津櫻', 'description': '河津櫻是為日本伊豆半島河津町早開的櫻花，因而得名，是日本最早盛開的櫻花品種之一，花期約有1個月，花朵呈中型大小，桃紅色，花姿高雅、脫俗。果實幾呈球型，成熟後呈黑紫色，帶甜味。河津櫻種植於園區的奕棋區旁，與居民生活相當親近。 河津櫻屬於落葉高木，樹姿成廣卵形，樹皮呈紫褐色，具光澤。花朵呈中型大小，花瓣桃紅色，花期為1月下旬至2月，來園區走棋時，不妨抬頭望望喔。', 'videoType': 2, 'images': ['https://themefile.culture.tw/collection/2020-01-30/1d35cfc9-fe22-4c89-8d08-38cad29bda36/53.河津櫻1.jpg'], 'link': 'https://tour.cksmh.gov.tw/home/zh-tw/video/31482'}, {'id': 31483, 'uuid': 'c8b073d6-d865-4b9b-8b4d-4342a0d58385', 'title': '大寒櫻', 'description': '大寒櫻是由臺灣原生緋寒櫻和日本大島櫻交配而成的品種，因較能適應臺灣氣候而成長快速，種植於環堂道路靠大忠門側，與大漁櫻種植地相近。 大寒櫻枝疏，樹姿呈傘狀，花瓣單數、每朵數量不一，花姿高雅脫俗，從淡紅色到白色不等，花型與大漁櫻相似，花蕊顏色較淡。花期多為每年2至3月，較吉野櫻早，綻放時吸引民眾駐足觀賞。', 'videoType': 2, 'images': ['https://themefile.culture.tw/collection/2020-01-30/e8173077-bbf2-479f-b5d6-c51e14a571a1/52.大寒櫻5.jpg'], 'link': 'https://tour.cksmh.gov.tw/home/zh-tw/video/31483'}, {'id': 31484, 'uuid': '328d3321-113f-4916-ac2e-076c5dd6ecd1', 'title': '大漁櫻', 'description': '大漁櫻是園區最能適應臺灣本土氣候的日本品系櫻花，種植於園區環堂背面及往雲漢池方向的雨水儲集池旁。大漁櫻是日本大島櫻的變種，花瓣顏色與鯛魚顏色相近而得名。花朵大多5瓣，淡粉色花瓣清新脫俗、外觀優雅，靠近一聞，可感受一股淡淡清香。 大漁櫻花期視氣候而定，每年約2月中旬前後開花，盛開時吸引許多攝影者前來朝聖，無數愛花民眾一同追花、賞花。', 'videoType': 2, 'images': ['https://themefile.culture.tw/collection/2020-01-30/27edd76a-e415-43da-9c78-d5cd430e1d71/51.大漁櫻7.jpg'], 'link': 'https://tour.cksmh.gov.tw/home/zh-tw/video/31484'}, {'id': 31486, 'uuid': '8fbad4f6-c2d2-473a-90b1-0117022873cb', 'title': '白梅花', 'description': '白梅花屬於果梅，會開花與結果，園區樂活花園前方有一處白梅花專區，白梅盛開時猶如滿樹白雪，總是吸引人潮拍攝取景。花期較園區其他梅花種類早，約在每年12月至隔年1月間，花瓣大多5枚，顏色素白潔淨，氣味清香。 花謝結果，梅子約在4至5月間成熟。梅子成熟後，既可做成梅干、話梅等食物，也可以釀製梅酒、製作酸梅湯等食品。', 'videoType': 2, 'images': ['https://themefile.culture.tw/collection/2020-01-30/25ae4fb3-8bdf-4ccf-af46-43e973b915b4/50.白梅花2.jpg'], 'link': 'https://tour.cksmh.gov.tw/home/zh-tw/video/31486'}, {'id': 31487, 'uuid': '9a0c75da-3c01-48ed-a110-6d7488b56209', 'title': '純香梅花', 'description': '純香梅花屬於純觀花的梅花品種，無花粉，不結果，是園區的特色植栽，種植地位在杭州南路與信義路出口的純香梅花區。每到初春開花時節，純香梅花的芬芳撲鼻而來，帶來視覺與嗅覺的雙重饗宴。 純香梅花屬於薔薇科落葉小喬木，枝幹呈灰褐色，著花繁密，喜歡有陽光、稍為冷涼通風的環境。初開時，花瓣呈淡粉紅色，盛開時轉為白色，多重花瓣優美典雅，香氣濃郁。繁殖有扦插與嫁接等方法，以嫁接法為主。', 'videoType': 1, 'images': ['https://themefile.culture.tw/collection/2020-01-30/55a0f913-e95c-4b13-8f80-cc732b62a78b/49.純香梅花1.jpg'], 'link': 'https://tour.cksmh.gov.tw/home/zh-tw/video/31487'}, {'id': 31489, 'uuid': '00ea12ee-07c1-4ebb-8317-f7f6e6c41b27', 'title': '宮粉梅花', 'description': '宮粉梅花屬於花梅，以粉紅色重瓣為主，也有白色重瓣。園區共有3處栽種宮粉梅花，包含大忠門兩側，以及進入大孝門右側。宮粉梅花一般2月初開花，花期約1-2個月，較果梅晚。宮粉梅花屬於複瓣至重瓣，花瓣呈現有深有淺的粉紅色，花朵繁密，散發淡淡清香，婉約的氣質與姿態，令許多來訪遊客讚嘆不已。 當果梅花謝、開始結果，宮粉梅才要開花。每到開花期，許多攝影愛好者聚集拍照，梅花爭豔，鏡頭搶鏡，形成有趣的畫面。', 'videoType': 2, 'images': ['https://themefile.culture.tw/collection/2020-01-30/7aa06a19-1547-49c8-a621-718f2f05b27a/48.宮粉梅花1.jpg'], 'link': 'https://tour.cksmh.gov.tw/home/zh-tw/video/31489'}, {'id': 31490, 'uuid': '9948d9a0-aa48-477b-9cc2-05e4bc3c0d00', 'title': '黑冠麻鷺', 'description': '園區常見頭頂黑色長冠羽、藍色眼睛以及褐色身體的黑冠麻鷺。牠喜歡單獨行動，在樹林間草地或者水邊覓食。當牠停在樹上或草地休息時，一動也不動直挺挺地站著，配合環境擬態的模樣十分逗趣。 黑冠麻鷺大多在樹林下層尋找蚯蚓為主食，有時也捕捉兩棲類、無脊椎軟體動物或水生昆蟲等。黑冠麻鷺平時是很安靜的鳥兒，3-9月繁殖期會整夜發出「澎-澎-」像大鼓的鳴叫聲。', 'videoType': 2, 'images': ['https://themefile.culture.tw/collection/2020-01-30/5b60dfb6-819b-4104-bc4e-165438fd6366/24.黑冠麻鷺3.jpg'], 'link': 'https://tour.cksmh.gov.tw/home/zh-tw/video/31490'}, {'id': 31491, 'uuid': '9a2a2338-a047-42de-bd31-34aa7cef95b2', 'title': '主堂體', 'description': '紀念堂由楊卓成建築師設計，高度70公尺，占地約15,000平方公尺，由14.5公尺高的3層臺基、24公尺高的主堂體及31.5公尺高的斗栱至寶頂尖所構成。主堂體坐東朝西，內部為銅像大廳，臺基內部為展示及演藝空間。 屋頂採八角攢尖重簷式設計，下方層疊大型斗栱，寶藍色琉璃瓦鋪設的屋頂屋脊呈現人字型，寶頂高5.25公尺，在藍天中閃耀著金光。', 'videoType': 2, 'images': ['https://themefile.culture.tw/collection/2020-01-30/2dcd1a51-1202-4e5a-ba70-ea86dc12dadb/21.主堂體1.jpg'], 'link': 'https://tour.cksmh.gov.tw/home/zh-tw/video/31491'}, {'id': 31492, 'uuid': 'b45e5cb7-cf37-4dda-a422-f743e0f484cd', 'title': '正面牌樓', 'description': ' 中正紀念堂的正面牌樓，以仿漢白玉石材構築，高30公尺、寬80公尺，共有5個入口立面、6根柱子以及大小屋頂11個，此樣式稱為5間6柱11樓，是傳統牌樓最高等級的規格，並以多層斗栱搭建寶藍色琉璃瓦屋頂。', 'videoType': 2, 'images': ['https://themefile.culture.tw/collection/2020-01-30/a2f109ea-da51-4514-9435-9c3a968b67f7/1.正面牌樓1.jpg'], 'link': 'https://tour.cksmh.gov.tw/home/zh-tw/video/31492'}])])"
      ]
     },
     "execution_count": 4,
     "metadata": {},
     "output_type": "execute_result"
    }
   ],
   "source": [
    "data.items()"
   ]
  },
  {
   "cell_type": "code",
   "execution_count": null,
   "id": "cc7fb528",
   "metadata": {},
   "outputs": [],
   "source": []
  }
 ],
 "metadata": {
  "kernelspec": {
   "display_name": "Python 3 (ipykernel)",
   "language": "python",
   "name": "python3"
  },
  "language_info": {
   "codemirror_mode": {
    "name": "ipython",
    "version": 3
   },
   "file_extension": ".py",
   "mimetype": "text/x-python",
   "name": "python",
   "nbconvert_exporter": "python",
   "pygments_lexer": "ipython3",
   "version": "3.9.13"
  }
 },
 "nbformat": 4,
 "nbformat_minor": 5
}
