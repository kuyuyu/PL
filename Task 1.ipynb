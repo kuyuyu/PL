{
 "cells": [
  {
   "cell_type": "code",
   "execution_count": 69,
   "id": "bc515464",
   "metadata": {
    "scrolled": true
   },
   "outputs": [],
   "source": [
    "#使用pandas套件，簡稱為pd\n",
    "import pandas as pd\n",
    "\n",
    "#匯入csv檔(可以逗號隔開)\n",
    "child = pd.read_csv(\"child_top5.csv\",encoding='big5')\n",
    "adult = pd.read_csv(\"adult_top5.csv\",encoding='big5')\n",
    "#強制編碼改成big5"
   ]
  },
  {
   "cell_type": "code",
   "execution_count": 70,
   "id": "1763ba7d",
   "metadata": {
    "scrolled": true
   },
   "outputs": [
    {
     "data": {
      "text/html": [
       "<div>\n",
       "<style scoped>\n",
       "    .dataframe tbody tr th:only-of-type {\n",
       "        vertical-align: middle;\n",
       "    }\n",
       "\n",
       "    .dataframe tbody tr th {\n",
       "        vertical-align: top;\n",
       "    }\n",
       "\n",
       "    .dataframe thead th {\n",
       "        text-align: right;\n",
       "    }\n",
       "</style>\n",
       "<table border=\"1\" class=\"dataframe\">\n",
       "  <thead>\n",
       "    <tr style=\"text-align: right;\">\n",
       "      <th></th>\n",
       "      <th>排行</th>\n",
       "      <th>道具</th>\n",
       "      <th>用途</th>\n",
       "      <th>理由之一</th>\n",
       "    </tr>\n",
       "  </thead>\n",
       "  <tbody>\n",
       "    <tr>\n",
       "      <th>0</th>\n",
       "      <td>Top 5</td>\n",
       "      <td>格列佛隧道</td>\n",
       "      <td>人從大的洞口進去小的洞口出來會變小，反之有相反作用</td>\n",
       "      <td>想住進玩具屋裡</td>\n",
       "    </tr>\n",
       "    <tr>\n",
       "      <th>1</th>\n",
       "      <td>Top 4</td>\n",
       "      <td>時光包巾</td>\n",
       "      <td>把物品包在布某面會把物品變得更新，反面包則物品變得更舊</td>\n",
       "      <td>想把玩具變新</td>\n",
       "    </tr>\n",
       "    <tr>\n",
       "      <th>2</th>\n",
       "      <td>Top 3</td>\n",
       "      <td>竹蜻蜓</td>\n",
       "      <td>戴在頭上可以任意飛翔</td>\n",
       "      <td>想去哪裡都可以</td>\n",
       "    </tr>\n",
       "    <tr>\n",
       "      <th>3</th>\n",
       "      <td>Top 2</td>\n",
       "      <td>時光機</td>\n",
       "      <td>在時間隧道內乘坐機器，設定以進行時間旅程穿梭</td>\n",
       "      <td>想看未來世界</td>\n",
       "    </tr>\n",
       "    <tr>\n",
       "      <th>4</th>\n",
       "      <td>Top 1</td>\n",
       "      <td>任意門</td>\n",
       "      <td>開門前心中想或是唸出來，即可到達任何地方</td>\n",
       "      <td>(未寫)</td>\n",
       "    </tr>\n",
       "  </tbody>\n",
       "</table>\n",
       "</div>"
      ],
      "text/plain": [
       "      排行     道具                           用途     理由之一\n",
       "0  Top 5  格列佛隧道    人從大的洞口進去小的洞口出來會變小，反之有相反作用  想住進玩具屋裡\n",
       "1  Top 4   時光包巾  把物品包在布某面會把物品變得更新，反面包則物品變得更舊   想把玩具變新\n",
       "2  Top 3    竹蜻蜓                   戴在頭上可以任意飛翔  想去哪裡都可以\n",
       "3  Top 2    時光機       在時間隧道內乘坐機器，設定以進行時間旅程穿梭   想看未來世界\n",
       "4  Top 1    任意門         開門前心中想或是唸出來，即可到達任何地方     (未寫)"
      ]
     },
     "execution_count": 70,
     "metadata": {},
     "output_type": "execute_result"
    }
   ],
   "source": [
    "#小孩最想擁有道具的top5\n",
    "child"
   ]
  },
  {
   "cell_type": "code",
   "execution_count": 71,
   "id": "bd5d19c8",
   "metadata": {},
   "outputs": [
    {
     "data": {
      "text/html": [
       "<div>\n",
       "<style scoped>\n",
       "    .dataframe tbody tr th:only-of-type {\n",
       "        vertical-align: middle;\n",
       "    }\n",
       "\n",
       "    .dataframe tbody tr th {\n",
       "        vertical-align: top;\n",
       "    }\n",
       "\n",
       "    .dataframe thead th {\n",
       "        text-align: right;\n",
       "    }\n",
       "</style>\n",
       "<table border=\"1\" class=\"dataframe\">\n",
       "  <thead>\n",
       "    <tr style=\"text-align: right;\">\n",
       "      <th></th>\n",
       "      <th>排行</th>\n",
       "      <th>道具</th>\n",
       "      <th>用途</th>\n",
       "      <th>理由之一</th>\n",
       "    </tr>\n",
       "  </thead>\n",
       "  <tbody>\n",
       "    <tr>\n",
       "      <th>0</th>\n",
       "      <td>Top 5</td>\n",
       "      <td>獨裁按鈕</td>\n",
       "      <td>按下按鈕，可以讓反抗自己的人消失</td>\n",
       "      <td>想讓討厭的上司消失</td>\n",
       "    </tr>\n",
       "    <tr>\n",
       "      <th>1</th>\n",
       "      <td>Top 4</td>\n",
       "      <td>人生重來機</td>\n",
       "      <td>保持現有的智力和記憶回到過去，改變想改變的事</td>\n",
       "      <td>想重來一次</td>\n",
       "    </tr>\n",
       "    <tr>\n",
       "      <th>2</th>\n",
       "      <td>Top 3</td>\n",
       "      <td>記憶吐司</td>\n",
       "      <td>將此道具壓在要背的東西上再吃下去，即可將複印的東西背起來</td>\n",
       "      <td>記性變差，開始需要了</td>\n",
       "    </tr>\n",
       "    <tr>\n",
       "      <th>3</th>\n",
       "      <td>Top 2</td>\n",
       "      <td>如果電話亭</td>\n",
       "      <td>進入電話亭對話筒說：「如果……」，就會發生那件事</td>\n",
       "      <td>覺得非常強又萬能</td>\n",
       "    </tr>\n",
       "    <tr>\n",
       "      <th>4</th>\n",
       "      <td>Top 1</td>\n",
       "      <td>任意門</td>\n",
       "      <td>開門前心中想或是唸出來，即可到達任何地方</td>\n",
       "      <td>(未寫)</td>\n",
       "    </tr>\n",
       "  </tbody>\n",
       "</table>\n",
       "</div>"
      ],
      "text/plain": [
       "      排行     道具                            用途        理由之一\n",
       "0  Top 5   獨裁按鈕              按下按鈕，可以讓反抗自己的人消失   想讓討厭的上司消失\n",
       "1  Top 4  人生重來機        保持現有的智力和記憶回到過去，改變想改變的事       想重來一次\n",
       "2  Top 3   記憶吐司  將此道具壓在要背的東西上再吃下去，即可將複印的東西背起來  記性變差，開始需要了\n",
       "3  Top 2  如果電話亭      進入電話亭對話筒說：「如果……」，就會發生那件事    覺得非常強又萬能\n",
       "4  Top 1    任意門          開門前心中想或是唸出來，即可到達任何地方        (未寫)"
      ]
     },
     "execution_count": 71,
     "metadata": {},
     "output_type": "execute_result"
    }
   ],
   "source": [
    "#大人最想擁有道具的top5\n",
    "adult"
   ]
  },
  {
   "cell_type": "code",
   "execution_count": 72,
   "id": "1a5a317b",
   "metadata": {},
   "outputs": [],
   "source": [
    "#子集合\n",
    "s1 = set(child['道具'])\n",
    "s2 = set(adult['道具'])"
   ]
  },
  {
   "cell_type": "code",
   "execution_count": 73,
   "id": "cd3f28f4",
   "metadata": {},
   "outputs": [
    {
     "data": {
      "text/plain": [
       "{'任意門', '時光包巾', '時光機', '格列佛隧道', '竹蜻蜓'}"
      ]
     },
     "execution_count": 73,
     "metadata": {},
     "output_type": "execute_result"
    }
   ],
   "source": [
    "s1"
   ]
  },
  {
   "cell_type": "code",
   "execution_count": 74,
   "id": "9384fd6c",
   "metadata": {},
   "outputs": [
    {
     "data": {
      "text/plain": [
       "{'人生重來機', '任意門', '如果電話亭', '獨裁按鈕', '記憶吐司'}"
      ]
     },
     "execution_count": 74,
     "metadata": {},
     "output_type": "execute_result"
    }
   ],
   "source": [
    "s2"
   ]
  },
  {
   "cell_type": "code",
   "execution_count": 75,
   "id": "93e79ae6",
   "metadata": {},
   "outputs": [
    {
     "name": "stdout",
     "output_type": "stream",
     "text": [
      "小孩和大人都想擁有的道具數: 1\n",
      "{'任意門'}\n"
     ]
    }
   ],
   "source": [
    "#交集\n",
    "#小孩和大人都想擁有的道具\n",
    "print(\"小孩和大人都想擁有的道具數:\",len(s1&s2))\n",
    "print(s1&s2)"
   ]
  },
  {
   "cell_type": "code",
   "execution_count": 76,
   "id": "45a81174",
   "metadata": {},
   "outputs": [
    {
     "name": "stdout",
     "output_type": "stream",
     "text": [
      "小孩或大人想擁有的道具數: 9\n",
      "{'任意門', '時光包巾', '人生重來機', '記憶吐司', '竹蜻蜓', '格列佛隧道', '時光機', '如果電話亭', '獨裁按鈕'}\n"
     ]
    }
   ],
   "source": [
    "#聯集\n",
    "#小孩或大人想擁有的道具\n",
    "print(\"小孩或大人想擁有的道具數:\",len(s1|s2))\n",
    "print(s1|s2)"
   ]
  },
  {
   "cell_type": "code",
   "execution_count": 77,
   "id": "4521c2ec",
   "metadata": {},
   "outputs": [
    {
     "name": "stdout",
     "output_type": "stream",
     "text": [
      "小孩想擁有但大人沒有想的道具數: 4\n",
      "{'格列佛隧道', '竹蜻蜓', '時光包巾', '時光機'}\n"
     ]
    }
   ],
   "source": [
    "#差集一\n",
    "#小孩想擁有但大人沒有想的道具\n",
    "print(\"小孩想擁有但大人沒有想的道具數:\",len(s1-s2))\n",
    "print(s1-(s1&s2))"
   ]
  },
  {
   "cell_type": "code",
   "execution_count": 78,
   "id": "f999f805",
   "metadata": {},
   "outputs": [
    {
     "name": "stdout",
     "output_type": "stream",
     "text": [
      "大人想擁有但小孩沒有想的道具數: 4\n",
      "{'人生重來機', '如果電話亭', '記憶吐司', '獨裁按鈕'}\n"
     ]
    }
   ],
   "source": [
    "#差集二\n",
    "#大人想擁有但小孩沒有想的道具\n",
    "print(\"大人想擁有但小孩沒有想的道具數:\",len(s2-s1))\n",
    "print(s2-(s1&s2))"
   ]
  },
  {
   "cell_type": "code",
   "execution_count": 80,
   "id": "35c120b0",
   "metadata": {},
   "outputs": [
    {
     "name": "stdout",
     "output_type": "stream",
     "text": [
      "符合大人或小孩想要的道具數: 8\n",
      "{'記憶吐司', '竹蜻蜓', '時光機', '如果電話亭', '獨裁按鈕', '時光包巾', '人生重來機', '格列佛隧道'}\n"
     ]
    }
   ],
   "source": [
    "#對稱差集(聯集-交集)\n",
    "#符合大人或小孩想要的道具\n",
    "print(\"符合大人或小孩想要的道具數:\",len((s1|s2)-(s1&s2)))\n",
    "print(s1^s2)"
   ]
  },
  {
   "cell_type": "code",
   "execution_count": null,
   "id": "f7161aa8",
   "metadata": {},
   "outputs": [],
   "source": []
  }
 ],
 "metadata": {
  "kernelspec": {
   "display_name": "Python 3 (ipykernel)",
   "language": "python",
   "name": "python3"
  },
  "language_info": {
   "codemirror_mode": {
    "name": "ipython",
    "version": 3
   },
   "file_extension": ".py",
   "mimetype": "text/x-python",
   "name": "python",
   "nbconvert_exporter": "python",
   "pygments_lexer": "ipython3",
   "version": "3.9.13"
  }
 },
 "nbformat": 4,
 "nbformat_minor": 5
}
